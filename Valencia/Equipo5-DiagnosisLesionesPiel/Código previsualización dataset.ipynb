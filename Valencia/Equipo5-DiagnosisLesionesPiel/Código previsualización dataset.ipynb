{
 "cells": [
  {
   "cell_type": "markdown",
   "metadata": {
    "colab_type": "text",
    "id": "qkNoOV588UDr"
   },
   "source": [
    "\n",
    "### Importación de los datasets y funciones"
   ]
  },
  {
   "cell_type": "code",
   "execution_count": 0,
   "metadata": {
    "colab": {},
    "colab_type": "code",
    "id": "J0MGstff8Yk3"
   },
   "outputs": [],
   "source": [
    "import pandas as pd \n",
    "import numpy as np\n",
    "import matplotlib.pyplot as plt"
   ]
  },
  {
   "cell_type": "code",
   "execution_count": 0,
   "metadata": {
    "colab": {},
    "colab_type": "code",
    "id": "E5lPsDZvNYGc"
   },
   "outputs": [],
   "source": [
    "def show(img, title=None):\n",
    "    plt.imshow(img, cmap=\"gray\")\n",
    "    if title is not None: plt.title(title)\n",
    "\n",
    "def plots(ims, figsize=(12,6), rows=2, titles=None):\n",
    "    f = plt.figure(figsize=figsize)\n",
    "    cols = len(ims)//rows\n",
    "    for i in range(len(ims)):\n",
    "        sp = f.add_subplot(rows, cols, i+1)\n",
    "        sp.axis('Off')\n",
    "        if titles is not None: sp.set_title(titles[i], fontsize=16)\n",
    "        plt.imshow(ims[i], cmap='gray')"
   ]
  },
  {
   "cell_type": "markdown",
   "metadata": {
    "colab_type": "text",
    "id": "WhMBMWlVNaQ-"
   },
   "source": [
    "#### Fichero de introducción"
   ]
  },
  {
   "cell_type": "code",
   "execution_count": 0,
   "metadata": {
    "colab": {},
    "colab_type": "code",
    "id": "RqxhvfZF5dfl"
   },
   "outputs": [],
   "source": [
    "metadata = pd.read_csv('HAM10000_metadata.csv') "
   ]
  },
  {
   "cell_type": "code",
   "execution_count": 0,
   "metadata": {
    "colab": {
     "base_uri": "https://localhost:8080/",
     "height": 195
    },
    "colab_type": "code",
    "id": "NFj9cHN36yb-",
    "outputId": "c8c77ed2-bda9-43e2-abfb-32a608b92ac7"
   },
   "outputs": [
    {
     "data": {
      "text/html": [
       "<div>\n",
       "<style scoped>\n",
       "    .dataframe tbody tr th:only-of-type {\n",
       "        vertical-align: middle;\n",
       "    }\n",
       "\n",
       "    .dataframe tbody tr th {\n",
       "        vertical-align: top;\n",
       "    }\n",
       "\n",
       "    .dataframe thead th {\n",
       "        text-align: right;\n",
       "    }\n",
       "</style>\n",
       "<table border=\"1\" class=\"dataframe\">\n",
       "  <thead>\n",
       "    <tr style=\"text-align: right;\">\n",
       "      <th></th>\n",
       "      <th>lesion_id</th>\n",
       "      <th>image_id</th>\n",
       "      <th>dx</th>\n",
       "      <th>dx_type</th>\n",
       "      <th>age</th>\n",
       "      <th>sex</th>\n",
       "      <th>localization</th>\n",
       "    </tr>\n",
       "  </thead>\n",
       "  <tbody>\n",
       "    <tr>\n",
       "      <th>0</th>\n",
       "      <td>HAM_0000118</td>\n",
       "      <td>ISIC_0027419</td>\n",
       "      <td>bkl</td>\n",
       "      <td>histo</td>\n",
       "      <td>80.0</td>\n",
       "      <td>male</td>\n",
       "      <td>scalp</td>\n",
       "    </tr>\n",
       "    <tr>\n",
       "      <th>1</th>\n",
       "      <td>HAM_0000118</td>\n",
       "      <td>ISIC_0025030</td>\n",
       "      <td>bkl</td>\n",
       "      <td>histo</td>\n",
       "      <td>80.0</td>\n",
       "      <td>male</td>\n",
       "      <td>scalp</td>\n",
       "    </tr>\n",
       "    <tr>\n",
       "      <th>2</th>\n",
       "      <td>HAM_0002730</td>\n",
       "      <td>ISIC_0026769</td>\n",
       "      <td>bkl</td>\n",
       "      <td>histo</td>\n",
       "      <td>80.0</td>\n",
       "      <td>male</td>\n",
       "      <td>scalp</td>\n",
       "    </tr>\n",
       "    <tr>\n",
       "      <th>3</th>\n",
       "      <td>HAM_0002730</td>\n",
       "      <td>ISIC_0025661</td>\n",
       "      <td>bkl</td>\n",
       "      <td>histo</td>\n",
       "      <td>80.0</td>\n",
       "      <td>male</td>\n",
       "      <td>scalp</td>\n",
       "    </tr>\n",
       "    <tr>\n",
       "      <th>4</th>\n",
       "      <td>HAM_0001466</td>\n",
       "      <td>ISIC_0031633</td>\n",
       "      <td>bkl</td>\n",
       "      <td>histo</td>\n",
       "      <td>75.0</td>\n",
       "      <td>male</td>\n",
       "      <td>ear</td>\n",
       "    </tr>\n",
       "  </tbody>\n",
       "</table>\n",
       "</div>"
      ],
      "text/plain": [
       "     lesion_id      image_id   dx dx_type   age   sex localization\n",
       "0  HAM_0000118  ISIC_0027419  bkl   histo  80.0  male        scalp\n",
       "1  HAM_0000118  ISIC_0025030  bkl   histo  80.0  male        scalp\n",
       "2  HAM_0002730  ISIC_0026769  bkl   histo  80.0  male        scalp\n",
       "3  HAM_0002730  ISIC_0025661  bkl   histo  80.0  male        scalp\n",
       "4  HAM_0001466  ISIC_0031633  bkl   histo  75.0  male          ear"
      ]
     },
     "execution_count": 8,
     "metadata": {
      "tags": []
     },
     "output_type": "execute_result"
    }
   ],
   "source": [
    "metadata.head(5)"
   ]
  },
  {
   "cell_type": "markdown",
   "metadata": {
    "colab_type": "text",
    "id": "tJwBjgwbKBFb"
   },
   "source": [
    "#### Imagen tamaño 8x8"
   ]
  },
  {
   "cell_type": "code",
   "execution_count": 0,
   "metadata": {
    "colab": {},
    "colab_type": "code",
    "id": "cI2k-25tWLw9"
   },
   "outputs": [],
   "source": [
    "def show_img(img,k):\n",
    "    x_img = img.iloc[:,:img.shape[1]-1]\n",
    "    y_img = img.iloc[:,img.shape[1]-1]\n",
    "    mean = x_img.mean()\n",
    "    std = x_img.std()\n",
    "    x_valid = (x_img-mean)/std\n",
    "    x_reshape = x_valid.values.reshape(-1,k,k)\n",
    "    return x_reshape"
   ]
  },
  {
   "cell_type": "code",
   "execution_count": 0,
   "metadata": {
    "colab": {
     "base_uri": "https://localhost:8080/",
     "height": 265
    },
    "colab_type": "code",
    "id": "bmzE72nfXCDb",
    "outputId": "f3d9b272-e753-48f4-bf4a-2d10a34ae990"
   },
   "outputs": [
    {
     "data": {
      "image/png": "[encoded data removed]",
      "text/plain": [
       "<Figure size 432x288 with 1 Axes>"
      ]
     },
     "metadata": {
      "tags": []
     },
     "output_type": "display_data"
    }
   ],
   "source": [
    "show(show_img(img_8_8_L,8)[0])"
   ]
  },
  {
   "cell_type": "code",
   "execution_count": 0,
   "metadata": {
    "colab": {},
    "colab_type": "code",
    "id": "Fgo6NEhg6FDo"
   },
   "outputs": [],
   "source": [
    "img_8_8_L = pd.read_csv('hmnist_8_8_L.csv')"
   ]
  },
  {
   "cell_type": "code",
   "execution_count": 0,
   "metadata": {
    "colab": {},
    "colab_type": "code",
    "id": "K0P4yeK-9Gkb"
   },
   "outputs": [],
   "source": [
    "x_img_8_8_L = img_8_8_L.iloc[:,:img_8_8_L.shape[1]-1]\n",
    "\n",
    "y_img_8_8_L = img_8_8_L.iloc[:,img_8_8_L.shape[1]-1]"
   ]
  },
  {
   "cell_type": "code",
   "execution_count": 0,
   "metadata": {
    "colab": {},
    "colab_type": "code",
    "id": "u9ZBYx6yWKy0"
   },
   "outputs": [],
   "source": []
  },
  {
   "cell_type": "code",
   "execution_count": 0,
   "metadata": {
    "colab": {
     "base_uri": "https://localhost:8080/",
     "height": 408
    },
    "colab_type": "code",
    "id": "xEPuA-YFEh4-",
    "outputId": "d8e911d7-74a8-4377-df90-2418e4fcca00"
   },
   "outputs": [
    {
     "data": {
      "text/plain": [
       "(pixel0000   -3.224580e-16\n",
       " pixel0001   -6.289084e-16\n",
       " pixel0002    4.930321e-16\n",
       " pixel0003    3.121595e-16\n",
       " pixel0004   -1.973237e-18\n",
       "                  ...     \n",
       " pixel0059    6.082670e-16\n",
       " pixel0060   -2.804602e-16\n",
       " pixel0061   -5.979684e-16\n",
       " pixel0062   -3.180016e-16\n",
       " pixel0063   -6.063270e-16\n",
       " Length: 64, dtype: float64, pixel0000    1.0\n",
       " pixel0001    1.0\n",
       " pixel0002    1.0\n",
       " pixel0003    1.0\n",
       " pixel0004    1.0\n",
       "             ... \n",
       " pixel0059    1.0\n",
       " pixel0060    1.0\n",
       " pixel0061    1.0\n",
       " pixel0062    1.0\n",
       " pixel0063    1.0\n",
       " Length: 64, dtype: float64)"
      ]
     },
     "execution_count": 7,
     "metadata": {
      "tags": []
     },
     "output_type": "execute_result"
    }
   ],
   "source": [
    "mean = x_img_8_8_L.mean()\n",
    "std = x_img_8_8_L.std()\n",
    "\n",
    "x_valid = (x_img_8_8_L-mean)/std\n",
    "x_valid.mean(), x_valid.std()"
   ]
  },
  {
   "cell_type": "code",
   "execution_count": 0,
   "metadata": {
    "colab": {
     "base_uri": "https://localhost:8080/",
     "height": 34
    },
    "colab_type": "code",
    "id": "21BYsuZtKUYl",
    "outputId": "daac22fc-595c-4bbb-e5f2-5e293a7e4172"
   },
   "outputs": [
    {
     "name": "stdout",
     "output_type": "stream",
     "text": [
      "(10015, 64)    (10015,)\n"
     ]
    }
   ],
   "source": [
    "print(x_valid.shape, '  ', y_img_8_8_L.shape)"
   ]
  },
  {
   "cell_type": "code",
   "execution_count": 0,
   "metadata": {
    "colab": {
     "base_uri": "https://localhost:8080/",
     "height": 281
    },
    "colab_type": "code",
    "id": "bBJV_PWZKXPT",
    "outputId": "59b7724f-2d28-4583-ad1b-da1b560f3f25"
   },
   "outputs": [
    {
     "data": {
      "image/png": "[encoded data removed]",
      "text/plain": [
       "<Figure size 432x288 with 1 Axes>"
      ]
     },
     "metadata": {
      "tags": []
     },
     "output_type": "display_data"
    }
   ],
   "source": [
    "x_imgs = x_valid.values.reshape(-1,8,8); \n",
    "\n",
    "show(x_imgs[0], y_img_8_8_L[0])"
   ]
  },
  {
   "cell_type": "markdown",
   "metadata": {
    "colab_type": "text",
    "id": "QPl5fm79RqWV"
   },
   "source": [
    "#### Imagen 8x8 RGB"
   ]
  },
  {
   "cell_type": "code",
   "execution_count": 0,
   "metadata": {
    "colab": {},
    "colab_type": "code",
    "id": "UT0ZDjWxRyob"
   },
   "outputs": [],
   "source": [
    "img_8_8_RGB = pd.read_csv('hmnist_8_8_RGB.csv')"
   ]
  },
  {
   "cell_type": "code",
   "execution_count": 0,
   "metadata": {
    "colab": {},
    "colab_type": "code",
    "id": "lTtkDAQ_R0ta"
   },
   "outputs": [],
   "source": [
    "x_img_8_8_RGB = img_8_8_RGB.iloc[:,:img_8_8_RGB.shape[1]-1]\n",
    "\n",
    "y_img_8_8_RGB = img_8_8_RGB.iloc[:,img_8_8_RGB.shape[1]-1]"
   ]
  },
  {
   "cell_type": "code",
   "execution_count": 0,
   "metadata": {
    "colab": {
     "base_uri": "https://localhost:8080/",
     "height": 34
    },
    "colab_type": "code",
    "id": "wOfUzU9zOiMm",
    "outputId": "c1c477ae-cec3-4005-f4d9-14b1f7ae9715"
   },
   "outputs": [
    {
     "name": "stdout",
     "output_type": "stream",
     "text": [
      "(10015, 64)    (10015,)\n"
     ]
    }
   ],
   "source": [
    "print(x_valid.shape, '  ', y_img_8_8_RGB.shape)"
   ]
  },
  {
   "cell_type": "code",
   "execution_count": 0,
   "metadata": {
    "colab": {
     "base_uri": "https://localhost:8080/",
     "height": 281
    },
    "colab_type": "code",
    "id": "OfWzGxH1OiaT",
    "outputId": "d58b2c53-9645-434c-81d1-7ea096c1c01b"
   },
   "outputs": [
    {
     "data": {
      "image/png": "[encoded data removed]",
      "text/plain": [
       "<Figure size 432x288 with 1 Axes>"
      ]
     },
     "metadata": {
      "tags": []
     },
     "output_type": "display_data"
    }
   ],
   "source": [
    "x_img_2 = x_img_8_8_RGB.values.reshape(-1,8,8,3); \n",
    "\n",
    "show(x_img_2[0], y_img_8_8_L[0])"
   ]
  },
  {
   "cell_type": "markdown",
   "metadata": {
    "colab_type": "text",
    "id": "0GXqiVD4R1X5"
   },
   "source": [
    "#### Imagen tamaño 28x28"
   ]
  },
  {
   "cell_type": "code",
   "execution_count": 0,
   "metadata": {
    "colab": {},
    "colab_type": "code",
    "id": "8bG_IiYCR4Ni"
   },
   "outputs": [],
   "source": [
    "img_28_28_L = pd.read_csv('hmnist_28_28_L.csv')"
   ]
  },
  {
   "cell_type": "code",
   "execution_count": 0,
   "metadata": {
    "colab": {},
    "colab_type": "code",
    "id": "KAA2RjhaR844"
   },
   "outputs": [],
   "source": [
    "x_img_28_28_L = img_28_28_L.iloc[:,:img_28_28_L.shape[1]-1]\n",
    "\n",
    "y_img_28_28_L = img_28_28_L.iloc[:,img_28_28_L.shape[1]-1]\n",
    "\n",
    "x_img_3 = x_img_28_28_L.values.reshape(-1,28,28)"
   ]
  },
  {
   "cell_type": "code",
   "execution_count": 0,
   "metadata": {
    "colab": {
     "base_uri": "https://localhost:8080/",
     "height": 34
    },
    "colab_type": "code",
    "id": "yfB6D3BIR-Ni",
    "outputId": "75f599a3-64c4-4d56-f2b5-9617db24bafd"
   },
   "outputs": [
    {
     "name": "stdout",
     "output_type": "stream",
     "text": [
      "(10015, 784)    (10015,)\n"
     ]
    }
   ],
   "source": [
    "print(x_img_28_28_L.shape, '  ', y_img_8_8_L.shape)"
   ]
  },
  {
   "cell_type": "code",
   "execution_count": 0,
   "metadata": {
    "colab": {
     "base_uri": "https://localhost:8080/",
     "height": 281
    },
    "colab_type": "code",
    "id": "6rtv8y4xSAEr",
    "outputId": "384757b1-180c-4a01-d7d1-ec56313262ae"
   },
   "outputs": [
    {
     "data": {
      "image/png": "[encoded data removed]",
      "text/plain": [
       "<Figure size 432x288 with 1 Axes>"
      ]
     },
     "metadata": {
      "tags": []
     },
     "output_type": "display_data"
    }
   ],
   "source": [
    "show(x_img_3[4], y_img_28_28_L[4])"
   ]
  },
  {
   "cell_type": "markdown",
   "metadata": {
    "colab_type": "text",
    "id": "zm-xZEO8SIcN"
   },
   "source": [
    "#### Imagen tamaño 28x28 RGB"
   ]
  },
  {
   "cell_type": "code",
   "execution_count": 0,
   "metadata": {
    "colab": {},
    "colab_type": "code",
    "id": "31fwxbCHSJKv"
   },
   "outputs": [],
   "source": [
    "img_28_28_RGB = pd.read_csv('hmnist_28_28_RGB.csv')"
   ]
  },
  {
   "cell_type": "code",
   "execution_count": 0,
   "metadata": {
    "colab": {
     "base_uri": "https://localhost:8080/",
     "height": 244
    },
    "colab_type": "code",
    "id": "lshUGLY4YdhZ",
    "outputId": "6bd9fd38-ade9-431d-be3e-1b7ae0db6f42"
   },
   "outputs": [
    {
     "data": {
      "text/html": [
       "<div>\n",
       "<style scoped>\n",
       "    .dataframe tbody tr th:only-of-type {\n",
       "        vertical-align: middle;\n",
       "    }\n",
       "\n",
       "    .dataframe tbody tr th {\n",
       "        vertical-align: top;\n",
       "    }\n",
       "\n",
       "    .dataframe thead th {\n",
       "        text-align: right;\n",
       "    }\n",
       "</style>\n",
       "<table border=\"1\" class=\"dataframe\">\n",
       "  <thead>\n",
       "    <tr style=\"text-align: right;\">\n",
       "      <th></th>\n",
       "      <th>pixel0000</th>\n",
       "      <th>pixel0001</th>\n",
       "      <th>pixel0002</th>\n",
       "      <th>pixel0003</th>\n",
       "      <th>pixel0004</th>\n",
       "      <th>pixel0005</th>\n",
       "      <th>pixel0006</th>\n",
       "      <th>pixel0007</th>\n",
       "      <th>pixel0008</th>\n",
       "      <th>pixel0009</th>\n",
       "      <th>pixel0010</th>\n",
       "      <th>pixel0011</th>\n",
       "      <th>pixel0012</th>\n",
       "      <th>pixel0013</th>\n",
       "      <th>pixel0014</th>\n",
       "      <th>pixel0015</th>\n",
       "      <th>pixel0016</th>\n",
       "      <th>pixel0017</th>\n",
       "      <th>pixel0018</th>\n",
       "      <th>pixel0019</th>\n",
       "      <th>pixel0020</th>\n",
       "      <th>pixel0021</th>\n",
       "      <th>pixel0022</th>\n",
       "      <th>pixel0023</th>\n",
       "      <th>pixel0024</th>\n",
       "      <th>pixel0025</th>\n",
       "      <th>pixel0026</th>\n",
       "      <th>pixel0027</th>\n",
       "      <th>pixel0028</th>\n",
       "      <th>pixel0029</th>\n",
       "      <th>pixel0030</th>\n",
       "      <th>pixel0031</th>\n",
       "      <th>pixel0032</th>\n",
       "      <th>pixel0033</th>\n",
       "      <th>pixel0034</th>\n",
       "      <th>pixel0035</th>\n",
       "      <th>pixel0036</th>\n",
       "      <th>pixel0037</th>\n",
       "      <th>pixel0038</th>\n",
       "      <th>pixel0039</th>\n",
       "      <th>...</th>\n",
       "      <th>pixel2313</th>\n",
       "      <th>pixel2314</th>\n",
       "      <th>pixel2315</th>\n",
       "      <th>pixel2316</th>\n",
       "      <th>pixel2317</th>\n",
       "      <th>pixel2318</th>\n",
       "      <th>pixel2319</th>\n",
       "      <th>pixel2320</th>\n",
       "      <th>pixel2321</th>\n",
       "      <th>pixel2322</th>\n",
       "      <th>pixel2323</th>\n",
       "      <th>pixel2324</th>\n",
       "      <th>pixel2325</th>\n",
       "      <th>pixel2326</th>\n",
       "      <th>pixel2327</th>\n",
       "      <th>pixel2328</th>\n",
       "      <th>pixel2329</th>\n",
       "      <th>pixel2330</th>\n",
       "      <th>pixel2331</th>\n",
       "      <th>pixel2332</th>\n",
       "      <th>pixel2333</th>\n",
       "      <th>pixel2334</th>\n",
       "      <th>pixel2335</th>\n",
       "      <th>pixel2336</th>\n",
       "      <th>pixel2337</th>\n",
       "      <th>pixel2338</th>\n",
       "      <th>pixel2339</th>\n",
       "      <th>pixel2340</th>\n",
       "      <th>pixel2341</th>\n",
       "      <th>pixel2342</th>\n",
       "      <th>pixel2343</th>\n",
       "      <th>pixel2344</th>\n",
       "      <th>pixel2345</th>\n",
       "      <th>pixel2346</th>\n",
       "      <th>pixel2347</th>\n",
       "      <th>pixel2348</th>\n",
       "      <th>pixel2349</th>\n",
       "      <th>pixel2350</th>\n",
       "      <th>pixel2351</th>\n",
       "      <th>label</th>\n",
       "    </tr>\n",
       "  </thead>\n",
       "  <tbody>\n",
       "    <tr>\n",
       "      <th>0</th>\n",
       "      <td>192</td>\n",
       "      <td>153</td>\n",
       "      <td>193</td>\n",
       "      <td>195</td>\n",
       "      <td>155</td>\n",
       "      <td>192</td>\n",
       "      <td>197</td>\n",
       "      <td>154</td>\n",
       "      <td>185</td>\n",
       "      <td>202</td>\n",
       "      <td>162</td>\n",
       "      <td>192</td>\n",
       "      <td>208</td>\n",
       "      <td>165</td>\n",
       "      <td>201</td>\n",
       "      <td>209</td>\n",
       "      <td>165</td>\n",
       "      <td>205</td>\n",
       "      <td>208</td>\n",
       "      <td>165</td>\n",
       "      <td>194</td>\n",
       "      <td>212</td>\n",
       "      <td>169</td>\n",
       "      <td>198</td>\n",
       "      <td>216</td>\n",
       "      <td>181</td>\n",
       "      <td>204</td>\n",
       "      <td>216</td>\n",
       "      <td>178</td>\n",
       "      <td>204</td>\n",
       "      <td>215</td>\n",
       "      <td>172</td>\n",
       "      <td>205</td>\n",
       "      <td>217</td>\n",
       "      <td>173</td>\n",
       "      <td>209</td>\n",
       "      <td>217</td>\n",
       "      <td>166</td>\n",
       "      <td>202</td>\n",
       "      <td>214</td>\n",
       "      <td>...</td>\n",
       "      <td>216</td>\n",
       "      <td>181</td>\n",
       "      <td>212</td>\n",
       "      <td>215</td>\n",
       "      <td>176</td>\n",
       "      <td>208</td>\n",
       "      <td>213</td>\n",
       "      <td>168</td>\n",
       "      <td>191</td>\n",
       "      <td>209</td>\n",
       "      <td>159</td>\n",
       "      <td>184</td>\n",
       "      <td>212</td>\n",
       "      <td>168</td>\n",
       "      <td>194</td>\n",
       "      <td>212</td>\n",
       "      <td>172</td>\n",
       "      <td>198</td>\n",
       "      <td>208</td>\n",
       "      <td>173</td>\n",
       "      <td>193</td>\n",
       "      <td>203</td>\n",
       "      <td>168</td>\n",
       "      <td>183</td>\n",
       "      <td>190</td>\n",
       "      <td>142</td>\n",
       "      <td>152</td>\n",
       "      <td>177</td>\n",
       "      <td>123</td>\n",
       "      <td>134</td>\n",
       "      <td>173</td>\n",
       "      <td>124</td>\n",
       "      <td>138</td>\n",
       "      <td>183</td>\n",
       "      <td>147</td>\n",
       "      <td>166</td>\n",
       "      <td>185</td>\n",
       "      <td>154</td>\n",
       "      <td>177</td>\n",
       "      <td>2</td>\n",
       "    </tr>\n",
       "    <tr>\n",
       "      <th>1</th>\n",
       "      <td>25</td>\n",
       "      <td>14</td>\n",
       "      <td>30</td>\n",
       "      <td>68</td>\n",
       "      <td>48</td>\n",
       "      <td>75</td>\n",
       "      <td>123</td>\n",
       "      <td>93</td>\n",
       "      <td>126</td>\n",
       "      <td>158</td>\n",
       "      <td>128</td>\n",
       "      <td>158</td>\n",
       "      <td>172</td>\n",
       "      <td>136</td>\n",
       "      <td>162</td>\n",
       "      <td>175</td>\n",
       "      <td>134</td>\n",
       "      <td>157</td>\n",
       "      <td>177</td>\n",
       "      <td>126</td>\n",
       "      <td>158</td>\n",
       "      <td>186</td>\n",
       "      <td>138</td>\n",
       "      <td>163</td>\n",
       "      <td>197</td>\n",
       "      <td>153</td>\n",
       "      <td>187</td>\n",
       "      <td>198</td>\n",
       "      <td>153</td>\n",
       "      <td>186</td>\n",
       "      <td>203</td>\n",
       "      <td>168</td>\n",
       "      <td>206</td>\n",
       "      <td>205</td>\n",
       "      <td>169</td>\n",
       "      <td>204</td>\n",
       "      <td>207</td>\n",
       "      <td>164</td>\n",
       "      <td>199</td>\n",
       "      <td>205</td>\n",
       "      <td>...</td>\n",
       "      <td>209</td>\n",
       "      <td>176</td>\n",
       "      <td>203</td>\n",
       "      <td>207</td>\n",
       "      <td>171</td>\n",
       "      <td>191</td>\n",
       "      <td>208</td>\n",
       "      <td>172</td>\n",
       "      <td>197</td>\n",
       "      <td>205</td>\n",
       "      <td>169</td>\n",
       "      <td>188</td>\n",
       "      <td>198</td>\n",
       "      <td>159</td>\n",
       "      <td>172</td>\n",
       "      <td>200</td>\n",
       "      <td>159</td>\n",
       "      <td>192</td>\n",
       "      <td>191</td>\n",
       "      <td>140</td>\n",
       "      <td>182</td>\n",
       "      <td>177</td>\n",
       "      <td>128</td>\n",
       "      <td>141</td>\n",
       "      <td>147</td>\n",
       "      <td>101</td>\n",
       "      <td>97</td>\n",
       "      <td>113</td>\n",
       "      <td>79</td>\n",
       "      <td>82</td>\n",
       "      <td>60</td>\n",
       "      <td>39</td>\n",
       "      <td>55</td>\n",
       "      <td>25</td>\n",
       "      <td>14</td>\n",
       "      <td>28</td>\n",
       "      <td>25</td>\n",
       "      <td>14</td>\n",
       "      <td>27</td>\n",
       "      <td>2</td>\n",
       "    </tr>\n",
       "    <tr>\n",
       "      <th>2</th>\n",
       "      <td>192</td>\n",
       "      <td>138</td>\n",
       "      <td>153</td>\n",
       "      <td>200</td>\n",
       "      <td>145</td>\n",
       "      <td>163</td>\n",
       "      <td>201</td>\n",
       "      <td>142</td>\n",
       "      <td>160</td>\n",
       "      <td>206</td>\n",
       "      <td>149</td>\n",
       "      <td>165</td>\n",
       "      <td>207</td>\n",
       "      <td>149</td>\n",
       "      <td>159</td>\n",
       "      <td>209</td>\n",
       "      <td>156</td>\n",
       "      <td>164</td>\n",
       "      <td>202</td>\n",
       "      <td>136</td>\n",
       "      <td>130</td>\n",
       "      <td>200</td>\n",
       "      <td>133</td>\n",
       "      <td>129</td>\n",
       "      <td>208</td>\n",
       "      <td>146</td>\n",
       "      <td>157</td>\n",
       "      <td>212</td>\n",
       "      <td>159</td>\n",
       "      <td>167</td>\n",
       "      <td>214</td>\n",
       "      <td>157</td>\n",
       "      <td>168</td>\n",
       "      <td>211</td>\n",
       "      <td>143</td>\n",
       "      <td>150</td>\n",
       "      <td>215</td>\n",
       "      <td>148</td>\n",
       "      <td>169</td>\n",
       "      <td>213</td>\n",
       "      <td>...</td>\n",
       "      <td>221</td>\n",
       "      <td>168</td>\n",
       "      <td>175</td>\n",
       "      <td>222</td>\n",
       "      <td>170</td>\n",
       "      <td>188</td>\n",
       "      <td>221</td>\n",
       "      <td>167</td>\n",
       "      <td>184</td>\n",
       "      <td>203</td>\n",
       "      <td>144</td>\n",
       "      <td>155</td>\n",
       "      <td>201</td>\n",
       "      <td>146</td>\n",
       "      <td>155</td>\n",
       "      <td>210</td>\n",
       "      <td>163</td>\n",
       "      <td>177</td>\n",
       "      <td>190</td>\n",
       "      <td>142</td>\n",
       "      <td>152</td>\n",
       "      <td>192</td>\n",
       "      <td>152</td>\n",
       "      <td>172</td>\n",
       "      <td>194</td>\n",
       "      <td>153</td>\n",
       "      <td>176</td>\n",
       "      <td>178</td>\n",
       "      <td>134</td>\n",
       "      <td>149</td>\n",
       "      <td>167</td>\n",
       "      <td>129</td>\n",
       "      <td>143</td>\n",
       "      <td>159</td>\n",
       "      <td>124</td>\n",
       "      <td>142</td>\n",
       "      <td>136</td>\n",
       "      <td>104</td>\n",
       "      <td>117</td>\n",
       "      <td>2</td>\n",
       "    </tr>\n",
       "    <tr>\n",
       "      <th>3</th>\n",
       "      <td>38</td>\n",
       "      <td>19</td>\n",
       "      <td>30</td>\n",
       "      <td>95</td>\n",
       "      <td>59</td>\n",
       "      <td>72</td>\n",
       "      <td>143</td>\n",
       "      <td>103</td>\n",
       "      <td>119</td>\n",
       "      <td>171</td>\n",
       "      <td>125</td>\n",
       "      <td>134</td>\n",
       "      <td>177</td>\n",
       "      <td>118</td>\n",
       "      <td>123</td>\n",
       "      <td>190</td>\n",
       "      <td>137</td>\n",
       "      <td>146</td>\n",
       "      <td>192</td>\n",
       "      <td>127</td>\n",
       "      <td>143</td>\n",
       "      <td>200</td>\n",
       "      <td>141</td>\n",
       "      <td>162</td>\n",
       "      <td>207</td>\n",
       "      <td>156</td>\n",
       "      <td>170</td>\n",
       "      <td>202</td>\n",
       "      <td>144</td>\n",
       "      <td>151</td>\n",
       "      <td>202</td>\n",
       "      <td>138</td>\n",
       "      <td>155</td>\n",
       "      <td>212</td>\n",
       "      <td>159</td>\n",
       "      <td>177</td>\n",
       "      <td>211</td>\n",
       "      <td>155</td>\n",
       "      <td>172</td>\n",
       "      <td>211</td>\n",
       "      <td>...</td>\n",
       "      <td>181</td>\n",
       "      <td>137</td>\n",
       "      <td>145</td>\n",
       "      <td>189</td>\n",
       "      <td>147</td>\n",
       "      <td>166</td>\n",
       "      <td>192</td>\n",
       "      <td>157</td>\n",
       "      <td>185</td>\n",
       "      <td>169</td>\n",
       "      <td>129</td>\n",
       "      <td>144</td>\n",
       "      <td>148</td>\n",
       "      <td>114</td>\n",
       "      <td>122</td>\n",
       "      <td>157</td>\n",
       "      <td>125</td>\n",
       "      <td>137</td>\n",
       "      <td>157</td>\n",
       "      <td>127</td>\n",
       "      <td>147</td>\n",
       "      <td>154</td>\n",
       "      <td>128</td>\n",
       "      <td>147</td>\n",
       "      <td>130</td>\n",
       "      <td>102</td>\n",
       "      <td>114</td>\n",
       "      <td>87</td>\n",
       "      <td>63</td>\n",
       "      <td>73</td>\n",
       "      <td>44</td>\n",
       "      <td>26</td>\n",
       "      <td>36</td>\n",
       "      <td>25</td>\n",
       "      <td>12</td>\n",
       "      <td>17</td>\n",
       "      <td>25</td>\n",
       "      <td>12</td>\n",
       "      <td>15</td>\n",
       "      <td>2</td>\n",
       "    </tr>\n",
       "    <tr>\n",
       "      <th>4</th>\n",
       "      <td>158</td>\n",
       "      <td>113</td>\n",
       "      <td>139</td>\n",
       "      <td>194</td>\n",
       "      <td>144</td>\n",
       "      <td>174</td>\n",
       "      <td>215</td>\n",
       "      <td>162</td>\n",
       "      <td>191</td>\n",
       "      <td>225</td>\n",
       "      <td>179</td>\n",
       "      <td>214</td>\n",
       "      <td>232</td>\n",
       "      <td>189</td>\n",
       "      <td>222</td>\n",
       "      <td>235</td>\n",
       "      <td>193</td>\n",
       "      <td>219</td>\n",
       "      <td>234</td>\n",
       "      <td>191</td>\n",
       "      <td>206</td>\n",
       "      <td>238</td>\n",
       "      <td>200</td>\n",
       "      <td>219</td>\n",
       "      <td>244</td>\n",
       "      <td>213</td>\n",
       "      <td>240</td>\n",
       "      <td>243</td>\n",
       "      <td>213</td>\n",
       "      <td>239</td>\n",
       "      <td>242</td>\n",
       "      <td>210</td>\n",
       "      <td>238</td>\n",
       "      <td>244</td>\n",
       "      <td>216</td>\n",
       "      <td>241</td>\n",
       "      <td>247</td>\n",
       "      <td>224</td>\n",
       "      <td>244</td>\n",
       "      <td>246</td>\n",
       "      <td>...</td>\n",
       "      <td>238</td>\n",
       "      <td>195</td>\n",
       "      <td>209</td>\n",
       "      <td>237</td>\n",
       "      <td>191</td>\n",
       "      <td>200</td>\n",
       "      <td>238</td>\n",
       "      <td>194</td>\n",
       "      <td>201</td>\n",
       "      <td>239</td>\n",
       "      <td>197</td>\n",
       "      <td>216</td>\n",
       "      <td>238</td>\n",
       "      <td>195</td>\n",
       "      <td>219</td>\n",
       "      <td>232</td>\n",
       "      <td>179</td>\n",
       "      <td>201</td>\n",
       "      <td>217</td>\n",
       "      <td>150</td>\n",
       "      <td>173</td>\n",
       "      <td>224</td>\n",
       "      <td>171</td>\n",
       "      <td>207</td>\n",
       "      <td>227</td>\n",
       "      <td>177</td>\n",
       "      <td>206</td>\n",
       "      <td>222</td>\n",
       "      <td>178</td>\n",
       "      <td>201</td>\n",
       "      <td>209</td>\n",
       "      <td>166</td>\n",
       "      <td>185</td>\n",
       "      <td>172</td>\n",
       "      <td>135</td>\n",
       "      <td>149</td>\n",
       "      <td>109</td>\n",
       "      <td>78</td>\n",
       "      <td>92</td>\n",
       "      <td>2</td>\n",
       "    </tr>\n",
       "  </tbody>\n",
       "</table>\n",
       "<p>5 rows × 2353 columns</p>\n",
       "</div>"
      ],
      "text/plain": [
       "   pixel0000  pixel0001  pixel0002  ...  pixel2350  pixel2351  label\n",
       "0        192        153        193  ...        154        177      2\n",
       "1         25         14         30  ...         14         27      2\n",
       "2        192        138        153  ...        104        117      2\n",
       "3         38         19         30  ...         12         15      2\n",
       "4        158        113        139  ...         78         92      2\n",
       "\n",
       "[5 rows x 2353 columns]"
      ]
     },
     "execution_count": 116,
     "metadata": {
      "tags": []
     },
     "output_type": "execute_result"
    }
   ],
   "source": [
    "img_28_28_RGB.head()"
   ]
  },
  {
   "cell_type": "code",
   "execution_count": 0,
   "metadata": {
    "colab": {},
    "colab_type": "code",
    "id": "tkCXtJdiSMY4"
   },
   "outputs": [],
   "source": [
    "x_img_28_28_RGB = img_28_28_RGB.iloc[:,:img_28_28_RGB.shape[1]-1]\n",
    "\n",
    "y_img_28_28_RGB = img_28_28_RGB.iloc[:,img_28_28_RGB.shape[1]-1]\n",
    "\n",
    "x_img_4 = x_img_28_28_RGB.values.reshape(-1,28,28,3)"
   ]
  },
  {
   "cell_type": "code",
   "execution_count": 0,
   "metadata": {
    "colab": {
     "base_uri": "https://localhost:8080/",
     "height": 34
    },
    "colab_type": "code",
    "id": "sfLW2-KbRa20",
    "outputId": "af757982-6ee4-4763-8be5-8ed2f95b9ace"
   },
   "outputs": [
    {
     "name": "stdout",
     "output_type": "stream",
     "text": [
      "(10015, 2352)    (10015,)\n"
     ]
    }
   ],
   "source": [
    "print(x_img_28_28_RGB.shape, '  ', y_img_28_28_RGB.shape)"
   ]
  },
  {
   "cell_type": "code",
   "execution_count": 0,
   "metadata": {
    "colab": {
     "base_uri": "https://localhost:8080/",
     "height": 281
    },
    "colab_type": "code",
    "id": "gmPFygykSQY8",
    "outputId": "b694c703-03d4-4631-cca4-9e63b9d49ebb"
   },
   "outputs": [
    {
     "data": {
      "image/png": "[encoded data removed]",
      "text/plain": [
       "<Figure size 432x288 with 1 Axes>"
      ]
     },
     "metadata": {
      "tags": []
     },
     "output_type": "display_data"
    }
   ],
   "source": [
    "show(x_img_4[4], y_img_28_28_RGB[4])"
   ]
  }
 ],
 "metadata": {
  "colab": {
   "collapsed_sections": [],
   "name": "AI_SATURDAYS_skin_deseases.ipynb",
   "provenance": [],
   "toc_visible": true
  },
  "kernelspec": {
   "display_name": "Python 3",
   "language": "python",
   "name": "python3"
  },
  "language_info": {
   "codemirror_mode": {
    "name": "ipython",
    "version": 3
   },
   "file_extension": ".py",
   "mimetype": "text/x-python",
   "name": "python",
   "nbconvert_exporter": "python",
   "pygments_lexer": "ipython3",
   "version": "3.6.5"
  }
 },
 "nbformat": 4,
 "nbformat_minor": 1
}
