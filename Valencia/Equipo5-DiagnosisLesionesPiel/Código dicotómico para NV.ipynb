{
 "cells": [
  {
   "cell_type": "markdown",
   "metadata": {},
   "source": [
    "### Importación de los datasets y funciones"
   ]
  },
  {
   "cell_type": "code",
   "execution_count": 1,
   "metadata": {},
   "outputs": [],
   "source": [
    "import glob\n",
    "import PIL\n",
    "import numpy as np\n",
    "import pandas as pd\n",
    "import matplotlib.pyplot as plt\n",
    "import random\n",
    "from sklearn.model_selection import train_test_split\n",
    "from sklearn.neural_network import MLPClassifier\n",
    "from sklearn.metrics import classification_report,confusion_matrix\n",
    "\n",
    "def recortar(pix,imagenes):##Función para recortar pixeles a cada lado deseados de las imagenes\n",
    "    a = (pix*2)+1\n",
    "    for i in range(2,a,2):\n",
    "        imagenes = np.delete(imagenes,0,axis=1)\n",
    "        imagenes = np.delete(imagenes,64-i,axis=1)\n",
    "        imagenes = np.delete(imagenes,0,axis=2)\n",
    "        imagenes = np.delete(imagenes,64-i,axis=2)\n",
    "        \n",
    "    return imagenes\n",
    "\n",
    "data = np.array([ np.array(PIL.Image.open(f).convert(\"RGB\")).ravel() \n",
    "                  for f in glob.glob(\"D:/SKINS PROJECT/IMAGEN_64_10015/*.jpg\") ]) #Ponemos la carpeta seguida de *\n",
    "                                                  #para que seleccione todos los archivos\n",
    "metadata = pd.read_csv(\"D:/SKINS PROJECT/HAM10000_metadata.csv\")\n",
    "index = np.arange(24306,34321)\n",
    "index.shape\n",
    "metadata[metadata['image_id']=='ISIC_0024309']\n",
    "pix = 3\n",
    "h = (64-(pix+pix))*(64-(pix+pix))\n",
    "dfimg = pd.DataFrame(data=data[0:,0:],index=index[0:])\n",
    "\n",
    "img64 = dfimg.values.reshape(-1,64,64,3)\n",
    "img60 = recortar(pix,img64)\n",
    "img60 = img60.reshape(-1,h*3)\n",
    "dfimg60 = pd.DataFrame(img60[0:,0:],index=index[0:])\n",
    "dfimg60['lesion']=0\n",
    "for i in range(10015):\n",
    "    lin_isc = 'ISIC_00' + str(i+24306)\n",
    "\n",
    "    location = metadata[metadata['image_id']==lin_isc].index.item()\n",
    "\n",
    "    dfimg60.loc[i+24306,'lesion'] = metadata.loc[location,'dx']\n",
    "dfimg60['nv']=0\n",
    "dfimg60['mel']=0\n",
    "dfimg60['bkl']=0\n",
    "dfimg60['bcc']=0\n",
    "dfimg60['akiec']=0\n",
    "dfimg60['vasc']=0\n",
    "dfimg60['df']=0\n",
    "for i in range(10015):\n",
    "    les = dfimg60.loc[i+24306,'lesion']\n",
    "    dfimg60.loc[i+24306,les] = 1\n",
    "\n",
    "del dfimg60['lesion']\n",
    "dfimg60_copia_nv = dfimg60\n",
    "dfimg60_copia_mel = dfimg60\n",
    "dfimg60_copia_bkl = dfimg60\n",
    "dfimg60_copia_bcc = dfimg60\n",
    "dfimg60_copia_akiec = dfimg60\n",
    "dfimg60_copia_vasc = dfimg60\n",
    "dfimg60_copia_df = dfimg60"
   ]
  },
  {
   "cell_type": "markdown",
   "metadata": {},
   "source": [
    "### Estudios modelos dicotómicos para cada una de las clases"
   ]
  },
  {
   "cell_type": "markdown",
   "metadata": {},
   "source": [
    "La idea de este apartado será estudiar si se puede conseguir un modelo que sea capaz de predecir una clase de mancha de la piel en concreto respecto del resto. La idea es que si esto se consiguiese, sería entonces momento de montar un algoritmo que elija la clase más votada de todos los modelos anteriores:"
   ]
  },
  {
   "cell_type": "code",
   "execution_count": 2,
   "metadata": {},
   "outputs": [],
   "source": [
    "##NV"
   ]
  },
  {
   "cell_type": "code",
   "execution_count": 3,
   "metadata": {},
   "outputs": [
    {
     "name": "stderr",
     "output_type": "stream",
     "text": [
      "Using TensorFlow backend.\n"
     ]
    },
    {
     "name": "stdout",
     "output_type": "stream",
     "text": [
      "WARNING:tensorflow:From D:\\Anaconda\\lib\\site-packages\\keras\\backend\\tensorflow_backend.py:4070: The name tf.nn.max_pool is deprecated. Please use tf.nn.max_pool2d instead.\n",
      "\n",
      "WARNING:tensorflow:From D:\\Anaconda\\lib\\site-packages\\keras\\backend\\tensorflow_backend.py:422: The name tf.global_variables is deprecated. Please use tf.compat.v1.global_variables instead.\n",
      "\n",
      "Train on 4907 samples, validate on 2103 samples\n",
      "Epoch 1/8\n",
      "4907/4907 [==============================] - 31s 6ms/step - loss: 0.8794 - accuracy: 0.6267 - val_loss: 0.5892 - val_accuracy: 0.6648\n",
      "Epoch 2/8\n",
      "4907/4907 [==============================] - 27s 6ms/step - loss: 0.5380 - accuracy: 0.7145 - val_loss: 0.5102 - val_accuracy: 0.7309\n",
      "Epoch 3/8\n",
      "4907/4907 [==============================] - 27s 6ms/step - loss: 0.4693 - accuracy: 0.7711 - val_loss: 0.4612 - val_accuracy: 0.7722\n",
      "Epoch 4/8\n",
      "4907/4907 [==============================] - 27s 5ms/step - loss: 0.4331 - accuracy: 0.7887 - val_loss: 0.4522 - val_accuracy: 0.7917\n",
      "Epoch 5/8\n",
      "4907/4907 [==============================] - 27s 5ms/step - loss: 0.4061 - accuracy: 0.8103 - val_loss: 0.4408 - val_accuracy: 0.7922\n",
      "Epoch 6/8\n",
      "4907/4907 [==============================] - 27s 6ms/step - loss: 0.3906 - accuracy: 0.8180 - val_loss: 0.4196 - val_accuracy: 0.8008\n",
      "Epoch 7/8\n",
      "4907/4907 [==============================] - 27s 5ms/step - loss: 0.3725 - accuracy: 0.8349 - val_loss: 0.3962 - val_accuracy: 0.8231\n",
      "Epoch 8/8\n",
      "4907/4907 [==============================] - 29s 6ms/step - loss: 0.3450 - accuracy: 0.8484 - val_loss: 0.3886 - val_accuracy: 0.8217\n"
     ]
    }
   ],
   "source": [
    "dfimg60_copia_nv = dfimg60_copia_nv.drop(['mel', 'bkl', 'bcc', 'akiec', 'vasc', 'df'], axis=1)\n",
    "x_dfimg = dfimg60_copia_nv.iloc[:,:dfimg60_copia_nv.shape[1]-1]\n",
    "\n",
    "y_dfimg = dfimg60_copia_nv.iloc[:,dfimg60_copia_nv.shape[1]-1]\n",
    "x_train, x_test, y_train, y_test = train_test_split(x_dfimg, y_dfimg, test_size=0.3, random_state=42)\n",
    "img_rows, img_cols = 58, 58\n",
    "input_shape = (img_rows, img_cols, 3)\n",
    "\n",
    "x_train = x_train.values.reshape(x_train.shape[0], img_rows, img_cols, 3)\n",
    "x_test = x_test.values.reshape(x_test.shape[0], img_rows, img_cols, 3)\n",
    "y_train = y_train.values.reshape(y_train.shape[0],)\n",
    "y_test = y_test.values.reshape(y_test.shape[0],)\n",
    "from keras.utils import to_categorical\n",
    "y_train_one_hot = to_categorical(y_train)\n",
    "y_test_one_hot = to_categorical(y_test)\n",
    "mean = x_train.mean()\n",
    "std = x_train.std()\n",
    "\n",
    "x_train = (x_train-mean)/std\n",
    "x_test = (x_test-mean)/std\n",
    "\n",
    "from keras.models import Sequential\n",
    "from keras.layers import Dense, Flatten, Conv2D, MaxPooling2D\n",
    "model = Sequential()\n",
    "\n",
    "model.add(Conv2D(32, (5, 5), activation='relu', input_shape=(58,58,3)))\n",
    "\n",
    "model.add(MaxPooling2D(pool_size=(2, 2)))\n",
    "\n",
    "model.add(Conv2D(64, (5, 5), activation='relu'))\n",
    "model.add(MaxPooling2D(pool_size=(2, 2)))\n",
    "\n",
    "model.add(Flatten())\n",
    "\n",
    "model.add(Dense(1000, activation='relu'))\n",
    "\n",
    "model.add(Dense(2, activation='softmax'))\n",
    "\n",
    "model.compile(loss='categorical_crossentropy', \n",
    "              optimizer='adam',\n",
    "              metrics=['accuracy'])\n",
    "hist = model.fit(x_train, y_train_one_hot, \n",
    "           batch_size=256, epochs=8, validation_split=0.3 )\n",
    "hist_nv = hist\n",
    "model_nv = model"
   ]
  },
  {
   "cell_type": "code",
   "execution_count": 4,
   "metadata": {},
   "outputs": [],
   "source": [
    "##MEL"
   ]
  },
  {
   "cell_type": "code",
   "execution_count": 5,
   "metadata": {},
   "outputs": [
    {
     "name": "stdout",
     "output_type": "stream",
     "text": [
      "Train on 4907 samples, validate on 2103 samples\n",
      "Epoch 1/8\n",
      "4907/4907 [==============================] - 28s 6ms/step - loss: 0.6584 - accuracy: 0.8908 - val_loss: 0.3135 - val_accuracy: 0.8944\n",
      "Epoch 2/8\n",
      "4907/4907 [==============================] - 26s 5ms/step - loss: 0.3182 - accuracy: 0.8908 - val_loss: 0.3041 - val_accuracy: 0.8944\n",
      "Epoch 3/8\n",
      "4907/4907 [==============================] - 26s 5ms/step - loss: 0.3151 - accuracy: 0.8908 - val_loss: 0.3141 - val_accuracy: 0.8944\n",
      "Epoch 4/8\n",
      "4907/4907 [==============================] - 26s 5ms/step - loss: 0.3113 - accuracy: 0.8908 - val_loss: 0.3115 - val_accuracy: 0.8944\n",
      "Epoch 5/8\n",
      "4907/4907 [==============================] - 26s 5ms/step - loss: 0.3042 - accuracy: 0.8908 - val_loss: 0.2997 - val_accuracy: 0.8944\n",
      "Epoch 6/8\n",
      "4907/4907 [==============================] - 26s 5ms/step - loss: 0.2954 - accuracy: 0.8908 - val_loss: 0.2973 - val_accuracy: 0.8944\n",
      "Epoch 7/8\n",
      "4907/4907 [==============================] - 26s 5ms/step - loss: 0.2936 - accuracy: 0.8908 - val_loss: 0.3151 - val_accuracy: 0.8944\n",
      "Epoch 8/8\n",
      "4907/4907 [==============================] - 26s 5ms/step - loss: 0.3005 - accuracy: 0.8908 - val_loss: 0.2967 - val_accuracy: 0.8944\n"
     ]
    }
   ],
   "source": [
    "dfimg60_copia_mel = dfimg60_copia_mel.drop(['nv', 'bkl', 'bcc', 'akiec', 'vasc', 'df'], axis=1)\n",
    "x_dfimg = dfimg60_copia_mel.iloc[:,:dfimg60_copia_mel.shape[1]-1]\n",
    "\n",
    "y_dfimg = dfimg60_copia_mel.iloc[:,dfimg60_copia_mel.shape[1]-1]\n",
    "x_train, x_test, y_train, y_test = train_test_split(x_dfimg, y_dfimg, test_size=0.3, random_state=42)\n",
    "img_rows, img_cols = 58, 58\n",
    "input_shape = (img_rows, img_cols, 3)\n",
    "\n",
    "x_train = x_train.values.reshape(x_train.shape[0], img_rows, img_cols, 3)\n",
    "x_test = x_test.values.reshape(x_test.shape[0], img_rows, img_cols, 3)\n",
    "y_train = y_train.values.reshape(y_train.shape[0],)\n",
    "y_test = y_test.values.reshape(y_test.shape[0],)\n",
    "from keras.utils import to_categorical\n",
    "y_train_one_hot = to_categorical(y_train)\n",
    "y_test_one_hot = to_categorical(y_test)\n",
    "mean = x_train.mean()\n",
    "std = x_train.std()\n",
    "\n",
    "x_train = (x_train-mean)/std\n",
    "x_test = (x_test-mean)/std\n",
    "\n",
    "from keras.models import Sequential\n",
    "from keras.layers import Dense, Flatten, Conv2D, MaxPooling2D\n",
    "model = Sequential()\n",
    "\n",
    "model.add(Conv2D(32, (5, 5), activation='relu', input_shape=(58,58,3)))\n",
    "\n",
    "model.add(MaxPooling2D(pool_size=(2, 2)))\n",
    "\n",
    "model.add(Conv2D(64, (5, 5), activation='relu'))\n",
    "model.add(MaxPooling2D(pool_size=(2, 2)))\n",
    "\n",
    "model.add(Flatten())\n",
    "\n",
    "model.add(Dense(1000, activation='relu'))\n",
    "\n",
    "model.add(Dense(2, activation='softmax'))\n",
    "\n",
    "model.compile(loss='categorical_crossentropy', \n",
    "              optimizer='adam',\n",
    "              metrics=['accuracy'])\n",
    "hist = model.fit(x_train, y_train_one_hot, \n",
    "           batch_size=256, epochs=8, validation_split=0.3 )\n",
    "hist_mel = hist\n",
    "model_mel = model"
   ]
  },
  {
   "cell_type": "code",
   "execution_count": 6,
   "metadata": {},
   "outputs": [],
   "source": [
    "##bkl"
   ]
  },
  {
   "cell_type": "code",
   "execution_count": 7,
   "metadata": {},
   "outputs": [
    {
     "name": "stdout",
     "output_type": "stream",
     "text": [
      "Train on 4907 samples, validate on 2103 samples\n",
      "Epoch 1/8\n",
      "4907/4907 [==============================] - 28s 6ms/step - loss: 0.4990 - accuracy: 0.8761 - val_loss: 0.3433 - val_accuracy: 0.8849\n",
      "Epoch 2/8\n",
      "4907/4907 [==============================] - 26s 5ms/step - loss: 0.3110 - accuracy: 0.8897 - val_loss: 0.3392 - val_accuracy: 0.8840\n",
      "Epoch 3/8\n",
      "4907/4907 [==============================] - 27s 5ms/step - loss: 0.3040 - accuracy: 0.8902 - val_loss: 0.3223 - val_accuracy: 0.8849\n",
      "Epoch 4/8\n",
      "4907/4907 [==============================] - 27s 5ms/step - loss: 0.2925 - accuracy: 0.8910 - val_loss: 0.3253 - val_accuracy: 0.8849\n",
      "Epoch 5/8\n",
      "4907/4907 [==============================] - 26s 5ms/step - loss: 0.2849 - accuracy: 0.8912 - val_loss: 0.3092 - val_accuracy: 0.8849\n",
      "Epoch 6/8\n",
      "4907/4907 [==============================] - 26s 5ms/step - loss: 0.2923 - accuracy: 0.8910 - val_loss: 0.3099 - val_accuracy: 0.8859\n",
      "Epoch 7/8\n",
      "4907/4907 [==============================] - 26s 5ms/step - loss: 0.2761 - accuracy: 0.8922 - val_loss: 0.3098 - val_accuracy: 0.8835\n",
      "Epoch 8/8\n",
      "4907/4907 [==============================] - 26s 5ms/step - loss: 0.2674 - accuracy: 0.8959 - val_loss: 0.3404 - val_accuracy: 0.8854\n"
     ]
    }
   ],
   "source": [
    "dfimg60_copia_bkl =dfimg60_copia_bkl.drop(['mel', 'nv', 'bcc', 'akiec', 'vasc', 'df'], axis=1)\n",
    "x_dfimg = dfimg60_copia_bkl.iloc[:,:dfimg60_copia_bkl.shape[1]-1]\n",
    "\n",
    "y_dfimg = dfimg60_copia_bkl.iloc[:,dfimg60_copia_bkl.shape[1]-1]\n",
    "x_train, x_test, y_train, y_test = train_test_split(x_dfimg, y_dfimg, test_size=0.3, random_state=42)\n",
    "img_rows, img_cols = 58, 58\n",
    "input_shape = (img_rows, img_cols, 3)\n",
    "\n",
    "x_train = x_train.values.reshape(x_train.shape[0], img_rows, img_cols, 3)\n",
    "x_test = x_test.values.reshape(x_test.shape[0], img_rows, img_cols, 3)\n",
    "y_train = y_train.values.reshape(y_train.shape[0],)\n",
    "y_test = y_test.values.reshape(y_test.shape[0],)\n",
    "from keras.utils import to_categorical\n",
    "y_train_one_hot = to_categorical(y_train)\n",
    "y_test_one_hot = to_categorical(y_test)\n",
    "mean = x_train.mean()\n",
    "std = x_train.std()\n",
    "\n",
    "x_train = (x_train-mean)/std\n",
    "x_test = (x_test-mean)/std\n",
    "\n",
    "from keras.models import Sequential\n",
    "from keras.layers import Dense, Flatten, Conv2D, MaxPooling2D\n",
    "model = Sequential()\n",
    "\n",
    "model.add(Conv2D(32, (5, 5), activation='relu', input_shape=(58,58,3)))\n",
    "\n",
    "model.add(MaxPooling2D(pool_size=(2, 2)))\n",
    "\n",
    "model.add(Conv2D(64, (5, 5), activation='relu'))\n",
    "model.add(MaxPooling2D(pool_size=(2, 2)))\n",
    "\n",
    "model.add(Flatten())\n",
    "\n",
    "model.add(Dense(1000, activation='relu'))\n",
    "\n",
    "model.add(Dense(2, activation='softmax'))\n",
    "\n",
    "model.compile(loss='categorical_crossentropy', \n",
    "              optimizer='adam',\n",
    "              metrics=['accuracy'])\n",
    "hist = model.fit(x_train, y_train_one_hot, \n",
    "           batch_size=256, epochs=8, validation_split=0.3 )\n",
    "hist_bkl = hist\n",
    "model_bkl = model"
   ]
  },
  {
   "cell_type": "code",
   "execution_count": 8,
   "metadata": {},
   "outputs": [],
   "source": [
    "#bcc"
   ]
  },
  {
   "cell_type": "code",
   "execution_count": 9,
   "metadata": {},
   "outputs": [
    {
     "name": "stdout",
     "output_type": "stream",
     "text": [
      "Train on 4907 samples, validate on 2103 samples\n",
      "Epoch 1/8\n",
      "4907/4907 [==============================] - 42s 9ms/step - loss: 0.3498 - accuracy: 0.9305 - val_loss: 0.1603 - val_accuracy: 0.9534\n",
      "Epoch 2/8\n",
      "4907/4907 [==============================] - 39s 8ms/step - loss: 0.1657 - accuracy: 0.9462 - val_loss: 0.1498 - val_accuracy: 0.9534\n",
      "Epoch 3/8\n",
      "4907/4907 [==============================] - 41s 8ms/step - loss: 0.1571 - accuracy: 0.9462 - val_loss: 0.1441 - val_accuracy: 0.9534\n",
      "Epoch 4/8\n",
      "4907/4907 [==============================] - 44s 9ms/step - loss: 0.1549 - accuracy: 0.9462 - val_loss: 0.1439 - val_accuracy: 0.9534\n",
      "Epoch 5/8\n",
      "4907/4907 [==============================] - 42s 9ms/step - loss: 0.1468 - accuracy: 0.9460 - val_loss: 0.1480 - val_accuracy: 0.9524\n",
      "Epoch 6/8\n",
      "4907/4907 [==============================] - 38s 8ms/step - loss: 0.1528 - accuracy: 0.9454 - val_loss: 0.1504 - val_accuracy: 0.9505\n",
      "Epoch 7/8\n",
      "4907/4907 [==============================] - 41s 8ms/step - loss: 0.1426 - accuracy: 0.9464 - val_loss: 0.1540 - val_accuracy: 0.9491\n",
      "Epoch 8/8\n",
      "4907/4907 [==============================] - 39s 8ms/step - loss: 0.1341 - accuracy: 0.9482 - val_loss: 0.1406 - val_accuracy: 0.9486\n"
     ]
    }
   ],
   "source": [
    "dfimg60_copia_bcc = dfimg60_copia_bcc.drop(['mel', 'bkl', 'nv', 'akiec', 'vasc', 'df'], axis=1)\n",
    "x_dfimg = dfimg60_copia_bcc.iloc[:,:dfimg60_copia_bcc.shape[1]-1]\n",
    "\n",
    "y_dfimg = dfimg60_copia_bcc.iloc[:,dfimg60_copia_bcc.shape[1]-1]\n",
    "x_train, x_test, y_train, y_test = train_test_split(x_dfimg, y_dfimg, test_size=0.3, random_state=42)\n",
    "img_rows, img_cols = 58, 58\n",
    "input_shape = (img_rows, img_cols, 3)\n",
    "\n",
    "x_train = x_train.values.reshape(x_train.shape[0], img_rows, img_cols, 3)\n",
    "x_test = x_test.values.reshape(x_test.shape[0], img_rows, img_cols, 3)\n",
    "y_train = y_train.values.reshape(y_train.shape[0],)\n",
    "y_test = y_test.values.reshape(y_test.shape[0],)\n",
    "from keras.utils import to_categorical\n",
    "y_train_one_hot = to_categorical(y_train)\n",
    "y_test_one_hot = to_categorical(y_test)\n",
    "mean = x_train.mean()\n",
    "std = x_train.std()\n",
    "\n",
    "x_train = (x_train-mean)/std\n",
    "x_test = (x_test-mean)/std\n",
    "\n",
    "from keras.models import Sequential\n",
    "from keras.layers import Dense, Flatten, Conv2D, MaxPooling2D\n",
    "model = Sequential()\n",
    "\n",
    "model.add(Conv2D(32, (5, 5), activation='relu', input_shape=(58,58,3)))\n",
    "\n",
    "model.add(MaxPooling2D(pool_size=(2, 2)))\n",
    "\n",
    "model.add(Conv2D(64, (5, 5), activation='relu'))\n",
    "model.add(MaxPooling2D(pool_size=(2, 2)))\n",
    "\n",
    "model.add(Flatten())\n",
    "\n",
    "model.add(Dense(1000, activation='relu'))\n",
    "\n",
    "model.add(Dense(2, activation='softmax'))\n",
    "\n",
    "model.compile(loss='categorical_crossentropy', \n",
    "              optimizer='adam',\n",
    "              metrics=['accuracy'])\n",
    "hist = model.fit(x_train, y_train_one_hot, \n",
    "           batch_size=256, epochs=8, validation_split=0.3 )\n",
    "hist_bcc = hist\n",
    "model_bcc = model"
   ]
  },
  {
   "cell_type": "code",
   "execution_count": null,
   "metadata": {},
   "outputs": [],
   "source": [
    "#vasc"
   ]
  },
  {
   "cell_type": "code",
   "execution_count": null,
   "metadata": {},
   "outputs": [],
   "source": [
    "dfimg60_copia_vasc = dfimg60_copia_vasc.drop(['mel', 'bkl', 'bcc', 'akiec', 'nv', 'df'], axis=1)\n",
    "x_dfimg = dfimg60_copia_vasc.iloc[:,:dfimg60_copia_vasc.shape[1]-1]\n",
    "\n",
    "y_dfimg = dfimg60_copia_vasc.iloc[:,dfimg60_copia_vasc.shape[1]-1]\n",
    "x_train, x_test, y_train, y_test = train_test_split(x_dfimg, y_dfimg, test_size=0.3, random_state=42)\n",
    "img_rows, img_cols = 58, 58\n",
    "input_shape = (img_rows, img_cols, 3)\n",
    "\n",
    "x_train = x_train.values.reshape(x_train.shape[0], img_rows, img_cols, 3)\n",
    "x_test = x_test.values.reshape(x_test.shape[0], img_rows, img_cols, 3)\n",
    "y_train = y_train.values.reshape(y_train.shape[0],)\n",
    "y_test = y_test.values.reshape(y_test.shape[0],)\n",
    "from keras.utils import to_categorical\n",
    "y_train_one_hot = to_categorical(y_train)\n",
    "y_test_one_hot = to_categorical(y_test)\n",
    "mean = x_train.mean()\n",
    "std = x_train.std()\n",
    "\n",
    "x_train = (x_train-mean)/std\n",
    "x_test = (x_test-mean)/std\n",
    "\n",
    "from keras.models import Sequential\n",
    "from keras.layers import Dense, Flatten, Conv2D, MaxPooling2D\n",
    "model = Sequential()\n",
    "\n",
    "model.add(Conv2D(32, (5, 5), activation='relu', input_shape=(58,58,3)))\n",
    "\n",
    "model.add(MaxPooling2D(pool_size=(2, 2)))\n",
    "\n",
    "model.add(Conv2D(64, (5, 5), activation='relu'))\n",
    "model.add(MaxPooling2D(pool_size=(2, 2)))\n",
    "\n",
    "model.add(Flatten())\n",
    "\n",
    "model.add(Dense(1000, activation='relu'))\n",
    "\n",
    "model.add(Dense(2, activation='softmax'))\n",
    "\n",
    "model.compile(loss='categorical_crossentropy', \n",
    "              optimizer='adam',\n",
    "              metrics=['accuracy'])\n",
    "hist = model.fit(x_train, y_train_one_hot, \n",
    "           batch_size=256, epochs=8, validation_split=0.3 )\n",
    "hist_vasc = hist\n",
    "model_vasc = model"
   ]
  },
  {
   "cell_type": "code",
   "execution_count": null,
   "metadata": {},
   "outputs": [],
   "source": [
    "#df"
   ]
  },
  {
   "cell_type": "code",
   "execution_count": null,
   "metadata": {},
   "outputs": [],
   "source": [
    "dfimg60_copia_df = dfimg60_copia_df.drop(['mel', 'bkl', 'bcc', 'akiec', 'vasc', 'nv'], axis=1)\n",
    "x_dfimg = dfimg60_copia_df.iloc[:,:dfimg60_copia_df.shape[1]-1]\n",
    "\n",
    "y_dfimg = dfimg60_copia_df.iloc[:,dfimg60_copia_df.shape[1]-1]\n",
    "x_train, x_test, y_train, y_test = train_test_split(x_dfimg, y_dfimg, test_size=0.3, random_state=42)\n",
    "img_rows, img_cols = 58, 58\n",
    "input_shape = (img_rows, img_cols, 3)\n",
    "\n",
    "x_train = x_train.values.reshape(x_train.shape[0], img_rows, img_cols, 3)\n",
    "x_test = x_test.values.reshape(x_test.shape[0], img_rows, img_cols, 3)\n",
    "y_train = y_train.values.reshape(y_train.shape[0],)\n",
    "y_test = y_test.values.reshape(y_test.shape[0],)\n",
    "from keras.utils import to_categorical\n",
    "y_train_one_hot = to_categorical(y_train)\n",
    "y_test_one_hot = to_categorical(y_test)\n",
    "mean = x_train.mean()\n",
    "std = x_train.std()\n",
    "\n",
    "x_train = (x_train-mean)/std\n",
    "x_test = (x_test-mean)/std\n",
    "\n",
    "from keras.models import Sequential\n",
    "from keras.layers import Dense, Flatten, Conv2D, MaxPooling2D\n",
    "model = Sequential()\n",
    "\n",
    "model.add(Conv2D(32, (5, 5), activation='relu', input_shape=(58,58,3)))\n",
    "\n",
    "model.add(MaxPooling2D(pool_size=(2, 2)))\n",
    "\n",
    "model.add(Conv2D(64, (5, 5), activation='relu'))\n",
    "model.add(MaxPooling2D(pool_size=(2, 2)))\n",
    "\n",
    "model.add(Flatten())\n",
    "\n",
    "model.add(Dense(1000, activation='relu'))\n",
    "\n",
    "model.add(Dense(2, activation='softmax'))\n",
    "\n",
    "model.compile(loss='categorical_crossentropy', \n",
    "              optimizer='adam',\n",
    "              metrics=['accuracy'])\n",
    "hist = model.fit(x_train, y_train_one_hot, \n",
    "           batch_size=256, epochs=8, validation_split=0.3 )\n",
    "hist_df = hist\n",
    "model_df = model"
   ]
  },
  {
   "cell_type": "markdown",
   "metadata": {},
   "source": [
    "Tras entrenar por separado todos los modelos, se aprecia que el único que actua aceptablemente por separado es el caso de nv. Por ello, vamos a incidir a estudiar en este apartado el caso nv frente al resto:"
   ]
  },
  {
   "cell_type": "code",
   "execution_count": 8,
   "metadata": {
    "scrolled": true
   },
   "outputs": [
    {
     "name": "stdout",
     "output_type": "stream",
     "text": [
      "Mayor probabilidad: nv 72.0 %\n",
      "Menor probabilidad: no nv 28.0 %\n"
     ]
    },
    {
     "data": {
      "image/png": "[encoded data removed]",
      "text/plain": [
       "<Figure size 432x288 with 1 Axes>"
      ]
     },
     "metadata": {
      "needs_background": "light"
     },
     "output_type": "display_data"
    }
   ],
   "source": [
    "\n",
    "my_image = plt.imread(\"D:/SKINS PROJECT/IMAGEN_64_10015/ISIC64_0024308.jpg\")\n",
    "from skimage.transform import resize\n",
    "my_image_resized = resize(my_image, (58,58,3))\n",
    "\n",
    "mean_resized = my_image_resized.mean()\n",
    "std_resized = my_image_resized.std()\n",
    "\n",
    "my_image_resized = (my_image_resized-mean_resized)/std_resized\n",
    "\n",
    "\n",
    "\n",
    "img = plt.imshow(my_image)\n",
    "import numpy as np\n",
    "probabilities_nv = model_nv.predict(np.array( [my_image_resized,] ))\n",
    "number_to_class = ['no nv', 'nv']\n",
    "index = np.argsort(probabilities_nv[0,:])\n",
    "print(\"Mayor probabilidad:\", number_to_class[index[1]], round(100*probabilities_nv[0,index[1]],2),'%')\n",
    "print(\"Menor probabilidad:\", number_to_class[index[0]], round(100*probabilities_nv[0,index[0]],2),'%')"
   ]
  },
  {
   "cell_type": "code",
   "execution_count": 4,
   "metadata": {},
   "outputs": [
    {
     "data": {
      "image/png": "[encoded data removed]",
      "text/plain": [
       "<Figure size 432x288 with 1 Axes>"
      ]
     },
     "metadata": {
      "needs_background": "light"
     },
     "output_type": "display_data"
    }
   ],
   "source": [
    "plt.plot(hist.history['accuracy'])\n",
    "plt.plot(hist.history['val_accuracy'])\n",
    "plt.title('Model accuracy')\n",
    "plt.ylabel('Accuracy')\n",
    "plt.xlabel('Epoch')\n",
    "plt.legend(['Train', 'Val'], loc='upper left')\n",
    "plt.show()"
   ]
  },
  {
   "cell_type": "code",
   "execution_count": 6,
   "metadata": {},
   "outputs": [
    {
     "name": "stdout",
     "output_type": "stream",
     "text": [
      "3005/3005 [==============================] - 12s 4ms/step\n"
     ]
    },
    {
     "data": {
      "text/plain": [
       "0.8039933443069458"
      ]
     },
     "execution_count": 6,
     "metadata": {},
     "output_type": "execute_result"
    }
   ],
   "source": [
    "model_nv.evaluate(x_test, y_test_one_hot)[1]"
   ]
  },
  {
   "cell_type": "code",
   "execution_count": null,
   "metadata": {},
   "outputs": [],
   "source": [
    "print(\"Tipo más probable:\", number_to_class[index[1]], round(100*probabilities[0,index[1]],2),'%')\n",
    "print(\"Segundo tipo más probable:\", number_to_class[index[0]], round(100*probabilities[0,index[0]],2),'%')"
   ]
  }
 ],
 "metadata": {
  "kernelspec": {
   "display_name": "Python 3",
   "language": "python",
   "name": "python3"
  },
  "language_info": {
   "codemirror_mode": {
    "name": "ipython",
    "version": 3
   },
   "file_extension": ".py",
   "mimetype": "text/x-python",
   "name": "python",
   "nbconvert_exporter": "python",
   "pygments_lexer": "ipython3",
   "version": "3.6.5"
  }
 },
 "nbformat": 4,
 "nbformat_minor": 2
}
