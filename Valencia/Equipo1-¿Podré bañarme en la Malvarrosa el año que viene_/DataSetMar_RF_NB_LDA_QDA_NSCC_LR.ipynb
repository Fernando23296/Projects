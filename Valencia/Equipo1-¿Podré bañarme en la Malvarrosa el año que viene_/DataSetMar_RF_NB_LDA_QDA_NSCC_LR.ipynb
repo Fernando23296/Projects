{
  "nbformat": 4,
  "nbformat_minor": 0,
  "metadata": {
    "colab": {
      "name": "DataSetMar_RF_NB_LDA_QDA_NSCC_LR.ipynb",
      "provenance": [],
      "collapsed_sections": [],
      "toc_visible": true
    },
    "kernelspec": {
      "display_name": "Python 3",
      "language": "python",
      "name": "python3"
    },
    "language_info": {
      "codemirror_mode": {
        "name": "ipython",
        "version": 3
      },
      "file_extension": ".py",
      "mimetype": "text/x-python",
      "name": "python",
      "nbconvert_exporter": "python",
      "pygments_lexer": "ipython3",
      "version": "3.7.4"
    }
  },
  "cells": [
    {
      "cell_type": "markdown",
      "metadata": {
        "colab_type": "text",
        "id": "fps63zzKRvcl"
      },
      "source": [
        "1. Import packages"
      ]
    },
    {
      "cell_type": "code",
      "metadata": {
        "colab_type": "code",
        "id": "0dKzw-cPRpAD",
        "colab": {}
      },
      "source": [
        "import pandas as pd\n",
        "import numpy as np\n",
        "\n",
        "import matplotlib.pyplot as plt\n",
        "import seaborn as sns\n",
        "\n",
        "from sklearn.ensemble import RandomForestRegressor\n",
        "from sklearn.linear_model import LinearRegression\n",
        "from sklearn.model_selection import train_test_split, cross_val_score, GridSearchCV, RepeatedStratifiedKFold\n",
        "from sklearn.metrics import mean_squared_error, r2_score\n",
        "import sklearn.metrics as metrics\n",
        "\n",
        "from sklearn.naive_bayes import GaussianNB\n",
        "from sklearn import preprocessing\n",
        "from sklearn.metrics import accuracy_score, make_scorer, confusion_matrix\n",
        "from sklearn.discriminant_analysis import LinearDiscriminantAnalysis\n",
        "from sklearn.discriminant_analysis import QuadraticDiscriminantAnalysis\n",
        "from sklearn.pipeline import Pipeline\n",
        "from sklearn.neighbors import NearestCentroid\n",
        "\n",
        "import warnings\n",
        "warnings.filterwarnings('ignore')\n",
        "\n",
        "%matplotlib inline"
      ],
      "execution_count": 0,
      "outputs": []
    },
    {
      "cell_type": "code",
      "metadata": {
        "colab_type": "code",
        "id": "2KkFEYB8R-bg",
        "colab": {}
      },
      "source": [
        "# Load data saved locally\n",
        "df = pd.read_csv('./DataSetFinal_20200211_v2.csv', sep=';')"
      ],
      "execution_count": 0,
      "outputs": []
    },
    {
      "cell_type": "code",
      "metadata": {
        "colab_type": "code",
        "id": "XSQK5MJwmPrL",
        "outputId": "1408e036-759b-4f8d-b551-05094bbb98de",
        "colab": {
          "base_uri": "https://localhost:8080/",
          "height": 292
        }
      },
      "source": [
        "df.head()"
      ],
      "execution_count": 3,
      "outputs": [
        {
          "output_type": "execute_result",
          "data": {
            "text/html": [
              "<div>\n",
              "<style scoped>\n",
              "    .dataframe tbody tr th:only-of-type {\n",
              "        vertical-align: middle;\n",
              "    }\n",
              "\n",
              "    .dataframe tbody tr th {\n",
              "        vertical-align: top;\n",
              "    }\n",
              "\n",
              "    .dataframe thead th {\n",
              "        text-align: right;\n",
              "    }\n",
              "</style>\n",
              "<table border=\"1\" class=\"dataframe\">\n",
              "  <thead>\n",
              "    <tr style=\"text-align: right;\">\n",
              "      <th></th>\n",
              "      <th>fecha</th>\n",
              "      <th>indicativo</th>\n",
              "      <th>playa</th>\n",
              "      <th>altitud</th>\n",
              "      <th>tmed</th>\n",
              "      <th>prec</th>\n",
              "      <th>tmin</th>\n",
              "      <th>horatmin</th>\n",
              "      <th>tmax</th>\n",
              "      <th>horatmax</th>\n",
              "      <th>dir</th>\n",
              "      <th>velmedia</th>\n",
              "      <th>racha</th>\n",
              "      <th>horaracha</th>\n",
              "      <th>ayer</th>\n",
              "      <th>precAyer</th>\n",
              "      <th>anteayer</th>\n",
              "      <th>precAnteayer</th>\n",
              "      <th>tmedAyer</th>\n",
              "      <th>tmaxAyer</th>\n",
              "      <th>tminAyer</th>\n",
              "      <th>dirAyer</th>\n",
              "      <th>velmediaAyer</th>\n",
              "      <th>rachaAyer</th>\n",
              "      <th>tmedAnteayer</th>\n",
              "      <th>tmaxAnteayer</th>\n",
              "      <th>tminAnteayer</th>\n",
              "      <th>dirAnteayer</th>\n",
              "      <th>velmediaAnteayer</th>\n",
              "      <th>rachaAnteayer</th>\n",
              "      <th>enteroc</th>\n",
              "      <th>ecoli</th>\n",
              "      <th>disponible</th>\n",
              "    </tr>\n",
              "  </thead>\n",
              "  <tbody>\n",
              "    <tr>\n",
              "      <th>0</th>\n",
              "      <td>20190527</td>\n",
              "      <td>8025</td>\n",
              "      <td>PLAYA DE L'ALBUFERETA</td>\n",
              "      <td>81</td>\n",
              "      <td>19.8</td>\n",
              "      <td>0.0</td>\n",
              "      <td>14.4</td>\n",
              "      <td>04:50</td>\n",
              "      <td>25.2</td>\n",
              "      <td>09:20</td>\n",
              "      <td>120</td>\n",
              "      <td>1.9</td>\n",
              "      <td>6.4</td>\n",
              "      <td>13:30</td>\n",
              "      <td>20190526</td>\n",
              "      <td>0.0</td>\n",
              "      <td>20190525</td>\n",
              "      <td>0.0</td>\n",
              "      <td>20.2</td>\n",
              "      <td>26.4</td>\n",
              "      <td>13.9</td>\n",
              "      <td>190</td>\n",
              "      <td>2.2</td>\n",
              "      <td>8.9</td>\n",
              "      <td>19.6</td>\n",
              "      <td>23.8</td>\n",
              "      <td>15.4</td>\n",
              "      <td>990</td>\n",
              "      <td>3.1</td>\n",
              "      <td>9.7</td>\n",
              "      <td>1</td>\n",
              "      <td>10</td>\n",
              "      <td>0</td>\n",
              "    </tr>\n",
              "    <tr>\n",
              "      <th>1</th>\n",
              "      <td>20190527</td>\n",
              "      <td>8025</td>\n",
              "      <td>PLAYA DE L'ALMADRAVA</td>\n",
              "      <td>81</td>\n",
              "      <td>19.8</td>\n",
              "      <td>0.0</td>\n",
              "      <td>14.4</td>\n",
              "      <td>04:50</td>\n",
              "      <td>25.2</td>\n",
              "      <td>09:20</td>\n",
              "      <td>120</td>\n",
              "      <td>1.9</td>\n",
              "      <td>6.4</td>\n",
              "      <td>13:30</td>\n",
              "      <td>20190526</td>\n",
              "      <td>0.0</td>\n",
              "      <td>20190525</td>\n",
              "      <td>0.0</td>\n",
              "      <td>20.2</td>\n",
              "      <td>26.4</td>\n",
              "      <td>13.9</td>\n",
              "      <td>190</td>\n",
              "      <td>2.2</td>\n",
              "      <td>8.9</td>\n",
              "      <td>19.6</td>\n",
              "      <td>23.8</td>\n",
              "      <td>15.4</td>\n",
              "      <td>990</td>\n",
              "      <td>3.1</td>\n",
              "      <td>9.7</td>\n",
              "      <td>10</td>\n",
              "      <td>1</td>\n",
              "      <td>0</td>\n",
              "    </tr>\n",
              "    <tr>\n",
              "      <th>2</th>\n",
              "      <td>20190527</td>\n",
              "      <td>8025</td>\n",
              "      <td>PLAYA DE TABARCA</td>\n",
              "      <td>81</td>\n",
              "      <td>19.8</td>\n",
              "      <td>0.0</td>\n",
              "      <td>14.4</td>\n",
              "      <td>04:50</td>\n",
              "      <td>25.2</td>\n",
              "      <td>09:20</td>\n",
              "      <td>120</td>\n",
              "      <td>1.9</td>\n",
              "      <td>6.4</td>\n",
              "      <td>13:30</td>\n",
              "      <td>20190526</td>\n",
              "      <td>0.0</td>\n",
              "      <td>20190525</td>\n",
              "      <td>0.0</td>\n",
              "      <td>20.2</td>\n",
              "      <td>26.4</td>\n",
              "      <td>13.9</td>\n",
              "      <td>190</td>\n",
              "      <td>2.2</td>\n",
              "      <td>8.9</td>\n",
              "      <td>19.6</td>\n",
              "      <td>23.8</td>\n",
              "      <td>15.4</td>\n",
              "      <td>990</td>\n",
              "      <td>3.1</td>\n",
              "      <td>9.7</td>\n",
              "      <td>1</td>\n",
              "      <td>0</td>\n",
              "      <td>0</td>\n",
              "    </tr>\n",
              "    <tr>\n",
              "      <th>3</th>\n",
              "      <td>20190527</td>\n",
              "      <td>8025</td>\n",
              "      <td>PLAYA DEL POSTIGUET</td>\n",
              "      <td>81</td>\n",
              "      <td>19.8</td>\n",
              "      <td>0.0</td>\n",
              "      <td>14.4</td>\n",
              "      <td>04:50</td>\n",
              "      <td>25.2</td>\n",
              "      <td>09:20</td>\n",
              "      <td>120</td>\n",
              "      <td>1.9</td>\n",
              "      <td>6.4</td>\n",
              "      <td>13:30</td>\n",
              "      <td>20190526</td>\n",
              "      <td>0.0</td>\n",
              "      <td>20190525</td>\n",
              "      <td>0.0</td>\n",
              "      <td>20.2</td>\n",
              "      <td>26.4</td>\n",
              "      <td>13.9</td>\n",
              "      <td>190</td>\n",
              "      <td>2.2</td>\n",
              "      <td>8.9</td>\n",
              "      <td>19.6</td>\n",
              "      <td>23.8</td>\n",
              "      <td>15.4</td>\n",
              "      <td>990</td>\n",
              "      <td>3.1</td>\n",
              "      <td>9.7</td>\n",
              "      <td>1</td>\n",
              "      <td>1</td>\n",
              "      <td>0</td>\n",
              "    </tr>\n",
              "    <tr>\n",
              "      <th>4</th>\n",
              "      <td>20190527</td>\n",
              "      <td>8025</td>\n",
              "      <td>PLAYA DEL SALADAR</td>\n",
              "      <td>81</td>\n",
              "      <td>19.8</td>\n",
              "      <td>0.0</td>\n",
              "      <td>14.4</td>\n",
              "      <td>04:50</td>\n",
              "      <td>25.2</td>\n",
              "      <td>09:20</td>\n",
              "      <td>120</td>\n",
              "      <td>1.9</td>\n",
              "      <td>6.4</td>\n",
              "      <td>13:30</td>\n",
              "      <td>20190526</td>\n",
              "      <td>0.0</td>\n",
              "      <td>20190525</td>\n",
              "      <td>0.0</td>\n",
              "      <td>20.2</td>\n",
              "      <td>26.4</td>\n",
              "      <td>13.9</td>\n",
              "      <td>190</td>\n",
              "      <td>2.2</td>\n",
              "      <td>8.9</td>\n",
              "      <td>19.6</td>\n",
              "      <td>23.8</td>\n",
              "      <td>15.4</td>\n",
              "      <td>990</td>\n",
              "      <td>3.1</td>\n",
              "      <td>9.7</td>\n",
              "      <td>1</td>\n",
              "      <td>1</td>\n",
              "      <td>0</td>\n",
              "    </tr>\n",
              "  </tbody>\n",
              "</table>\n",
              "</div>"
            ],
            "text/plain": [
              "      fecha indicativo                     playa  ...  enteroc  ecoli  disponible\n",
              "0  20190527       8025  PLAYA DE L'ALBUFERETA     ...        1     10           0\n",
              "1  20190527       8025   PLAYA DE L'ALMADRAVA     ...       10      1           0\n",
              "2  20190527       8025         PLAYA DE TABARCA   ...        1      0           0\n",
              "3  20190527       8025    PLAYA DEL POSTIGUET     ...        1      1           0\n",
              "4  20190527       8025      PLAYA DEL SALADAR     ...        1      1           0\n",
              "\n",
              "[5 rows x 33 columns]"
            ]
          },
          "metadata": {
            "tags": []
          },
          "execution_count": 3
        }
      ]
    },
    {
      "cell_type": "code",
      "metadata": {
        "colab_type": "code",
        "id": "eQ4cqEKyiZ1-",
        "colab": {}
      },
      "source": [
        "# Drop everything that is not numeric\n",
        "# this line drop Fecha, hortmin, horatmax, horaracha, ayer and anteayer\n",
        "df = df.select_dtypes(exclude=['object'])\n",
        "# Fill Null values (nan) to 0\n",
        "df = df.fillna(value=0)"
      ],
      "execution_count": 0,
      "outputs": []
    },
    {
      "cell_type": "code",
      "metadata": {
        "colab_type": "code",
        "id": "Dp8_FUDw6VxZ",
        "outputId": "8253ccf8-75e4-42db-b7f5-823d12d3739e",
        "colab": {
          "base_uri": "https://localhost:8080/",
          "height": 211
        }
      },
      "source": [
        "df.head()"
      ],
      "execution_count": 5,
      "outputs": [
        {
          "output_type": "execute_result",
          "data": {
            "text/html": [
              "<div>\n",
              "<style scoped>\n",
              "    .dataframe tbody tr th:only-of-type {\n",
              "        vertical-align: middle;\n",
              "    }\n",
              "\n",
              "    .dataframe tbody tr th {\n",
              "        vertical-align: top;\n",
              "    }\n",
              "\n",
              "    .dataframe thead th {\n",
              "        text-align: right;\n",
              "    }\n",
              "</style>\n",
              "<table border=\"1\" class=\"dataframe\">\n",
              "  <thead>\n",
              "    <tr style=\"text-align: right;\">\n",
              "      <th></th>\n",
              "      <th>fecha</th>\n",
              "      <th>altitud</th>\n",
              "      <th>tmed</th>\n",
              "      <th>prec</th>\n",
              "      <th>tmin</th>\n",
              "      <th>tmax</th>\n",
              "      <th>dir</th>\n",
              "      <th>velmedia</th>\n",
              "      <th>racha</th>\n",
              "      <th>ayer</th>\n",
              "      <th>precAyer</th>\n",
              "      <th>anteayer</th>\n",
              "      <th>precAnteayer</th>\n",
              "      <th>tmedAyer</th>\n",
              "      <th>tmaxAyer</th>\n",
              "      <th>tminAyer</th>\n",
              "      <th>dirAyer</th>\n",
              "      <th>velmediaAyer</th>\n",
              "      <th>rachaAyer</th>\n",
              "      <th>tmedAnteayer</th>\n",
              "      <th>tmaxAnteayer</th>\n",
              "      <th>tminAnteayer</th>\n",
              "      <th>dirAnteayer</th>\n",
              "      <th>velmediaAnteayer</th>\n",
              "      <th>rachaAnteayer</th>\n",
              "      <th>enteroc</th>\n",
              "      <th>ecoli</th>\n",
              "      <th>disponible</th>\n",
              "    </tr>\n",
              "  </thead>\n",
              "  <tbody>\n",
              "    <tr>\n",
              "      <th>0</th>\n",
              "      <td>20190527</td>\n",
              "      <td>81</td>\n",
              "      <td>19.8</td>\n",
              "      <td>0.0</td>\n",
              "      <td>14.4</td>\n",
              "      <td>25.2</td>\n",
              "      <td>120</td>\n",
              "      <td>1.9</td>\n",
              "      <td>6.4</td>\n",
              "      <td>20190526</td>\n",
              "      <td>0.0</td>\n",
              "      <td>20190525</td>\n",
              "      <td>0.0</td>\n",
              "      <td>20.2</td>\n",
              "      <td>26.4</td>\n",
              "      <td>13.9</td>\n",
              "      <td>190</td>\n",
              "      <td>2.2</td>\n",
              "      <td>8.9</td>\n",
              "      <td>19.6</td>\n",
              "      <td>23.8</td>\n",
              "      <td>15.4</td>\n",
              "      <td>990</td>\n",
              "      <td>3.1</td>\n",
              "      <td>9.7</td>\n",
              "      <td>1</td>\n",
              "      <td>10</td>\n",
              "      <td>0</td>\n",
              "    </tr>\n",
              "    <tr>\n",
              "      <th>1</th>\n",
              "      <td>20190527</td>\n",
              "      <td>81</td>\n",
              "      <td>19.8</td>\n",
              "      <td>0.0</td>\n",
              "      <td>14.4</td>\n",
              "      <td>25.2</td>\n",
              "      <td>120</td>\n",
              "      <td>1.9</td>\n",
              "      <td>6.4</td>\n",
              "      <td>20190526</td>\n",
              "      <td>0.0</td>\n",
              "      <td>20190525</td>\n",
              "      <td>0.0</td>\n",
              "      <td>20.2</td>\n",
              "      <td>26.4</td>\n",
              "      <td>13.9</td>\n",
              "      <td>190</td>\n",
              "      <td>2.2</td>\n",
              "      <td>8.9</td>\n",
              "      <td>19.6</td>\n",
              "      <td>23.8</td>\n",
              "      <td>15.4</td>\n",
              "      <td>990</td>\n",
              "      <td>3.1</td>\n",
              "      <td>9.7</td>\n",
              "      <td>10</td>\n",
              "      <td>1</td>\n",
              "      <td>0</td>\n",
              "    </tr>\n",
              "    <tr>\n",
              "      <th>2</th>\n",
              "      <td>20190527</td>\n",
              "      <td>81</td>\n",
              "      <td>19.8</td>\n",
              "      <td>0.0</td>\n",
              "      <td>14.4</td>\n",
              "      <td>25.2</td>\n",
              "      <td>120</td>\n",
              "      <td>1.9</td>\n",
              "      <td>6.4</td>\n",
              "      <td>20190526</td>\n",
              "      <td>0.0</td>\n",
              "      <td>20190525</td>\n",
              "      <td>0.0</td>\n",
              "      <td>20.2</td>\n",
              "      <td>26.4</td>\n",
              "      <td>13.9</td>\n",
              "      <td>190</td>\n",
              "      <td>2.2</td>\n",
              "      <td>8.9</td>\n",
              "      <td>19.6</td>\n",
              "      <td>23.8</td>\n",
              "      <td>15.4</td>\n",
              "      <td>990</td>\n",
              "      <td>3.1</td>\n",
              "      <td>9.7</td>\n",
              "      <td>1</td>\n",
              "      <td>0</td>\n",
              "      <td>0</td>\n",
              "    </tr>\n",
              "    <tr>\n",
              "      <th>3</th>\n",
              "      <td>20190527</td>\n",
              "      <td>81</td>\n",
              "      <td>19.8</td>\n",
              "      <td>0.0</td>\n",
              "      <td>14.4</td>\n",
              "      <td>25.2</td>\n",
              "      <td>120</td>\n",
              "      <td>1.9</td>\n",
              "      <td>6.4</td>\n",
              "      <td>20190526</td>\n",
              "      <td>0.0</td>\n",
              "      <td>20190525</td>\n",
              "      <td>0.0</td>\n",
              "      <td>20.2</td>\n",
              "      <td>26.4</td>\n",
              "      <td>13.9</td>\n",
              "      <td>190</td>\n",
              "      <td>2.2</td>\n",
              "      <td>8.9</td>\n",
              "      <td>19.6</td>\n",
              "      <td>23.8</td>\n",
              "      <td>15.4</td>\n",
              "      <td>990</td>\n",
              "      <td>3.1</td>\n",
              "      <td>9.7</td>\n",
              "      <td>1</td>\n",
              "      <td>1</td>\n",
              "      <td>0</td>\n",
              "    </tr>\n",
              "    <tr>\n",
              "      <th>4</th>\n",
              "      <td>20190527</td>\n",
              "      <td>81</td>\n",
              "      <td>19.8</td>\n",
              "      <td>0.0</td>\n",
              "      <td>14.4</td>\n",
              "      <td>25.2</td>\n",
              "      <td>120</td>\n",
              "      <td>1.9</td>\n",
              "      <td>6.4</td>\n",
              "      <td>20190526</td>\n",
              "      <td>0.0</td>\n",
              "      <td>20190525</td>\n",
              "      <td>0.0</td>\n",
              "      <td>20.2</td>\n",
              "      <td>26.4</td>\n",
              "      <td>13.9</td>\n",
              "      <td>190</td>\n",
              "      <td>2.2</td>\n",
              "      <td>8.9</td>\n",
              "      <td>19.6</td>\n",
              "      <td>23.8</td>\n",
              "      <td>15.4</td>\n",
              "      <td>990</td>\n",
              "      <td>3.1</td>\n",
              "      <td>9.7</td>\n",
              "      <td>1</td>\n",
              "      <td>1</td>\n",
              "      <td>0</td>\n",
              "    </tr>\n",
              "  </tbody>\n",
              "</table>\n",
              "</div>"
            ],
            "text/plain": [
              "      fecha  altitud  tmed  prec  ...  rachaAnteayer  enteroc  ecoli  disponible\n",
              "0  20190527       81  19.8   0.0  ...            9.7        1     10           0\n",
              "1  20190527       81  19.8   0.0  ...            9.7       10      1           0\n",
              "2  20190527       81  19.8   0.0  ...            9.7        1      0           0\n",
              "3  20190527       81  19.8   0.0  ...            9.7        1      1           0\n",
              "4  20190527       81  19.8   0.0  ...            9.7        1      1           0\n",
              "\n",
              "[5 rows x 28 columns]"
            ]
          },
          "metadata": {
            "tags": []
          },
          "execution_count": 5
        }
      ]
    },
    {
      "cell_type": "code",
      "metadata": {
        "colab_type": "code",
        "id": "su_c77hmirSI",
        "colab": {}
      },
      "source": [
        "#Select Ecoli column as objective\n",
        "y_column = 'disponible'\n",
        "y = df[y_column]\n",
        "# Drop returns a copy of the DataFrame with the specified columns removed  \n",
        "X = df.drop([y_column, 'ecoli','enteroc'], axis=1) # remove will not be helpful\n"
      ],
      "execution_count": 0,
      "outputs": []
    },
    {
      "cell_type": "code",
      "metadata": {
        "colab_type": "code",
        "id": "7iMFWaiOjJJo",
        "colab": {}
      },
      "source": [
        "# Split data into training and testing sets\n",
        "X_train, X_test, y_train, y_test = train_test_split(X, y, test_size=0.2, random_state=42)"
      ],
      "execution_count": 0,
      "outputs": []
    },
    {
      "cell_type": "code",
      "metadata": {
        "id": "rXQupV5M3Th5",
        "colab_type": "code",
        "colab": {
          "base_uri": "https://localhost:8080/",
          "height": 212
        },
        "outputId": "ee54816f-8cd0-42a0-a796-797159ec1e9a"
      },
      "source": [
        "y_train"
      ],
      "execution_count": 8,
      "outputs": [
        {
          "output_type": "execute_result",
          "data": {
            "text/plain": [
              "44      0\n",
              "680     0\n",
              "1405    0\n",
              "168     0\n",
              "303     0\n",
              "       ..\n",
              "1638    0\n",
              "1095    0\n",
              "1130    0\n",
              "1294    0\n",
              "860     0\n",
              "Name: disponible, Length: 1671, dtype: int64"
            ]
          },
          "metadata": {
            "tags": []
          },
          "execution_count": 8
        }
      ]
    },
    {
      "cell_type": "code",
      "metadata": {
        "colab_type": "code",
        "id": "e8jGdEZHrQs4",
        "outputId": "cb11c1f4-5031-4255-c54c-dd82b1dcb66e",
        "colab": {
          "base_uri": "https://localhost:8080/",
          "height": 33
        }
      },
      "source": [
        "# Check how many columns our dataset has...\n",
        "print(f\"Number of features =  {X_train.shape[1]}\")\n",
        "num_features = X_train.shape[1]"
      ],
      "execution_count": 9,
      "outputs": [
        {
          "output_type": "stream",
          "text": [
            "Number of features =  25\n"
          ],
          "name": "stdout"
        }
      ]
    },
    {
      "cell_type": "code",
      "metadata": {
        "colab_type": "code",
        "id": "fzYRvkNrrWaH",
        "colab": {}
      },
      "source": [
        "def train_score_regressor(sklearn_regressor, X_train, y_train, X_test, y_test, model_parameters, print_oob_score=False):\n",
        "    \"\"\"A helper function that:\n",
        "        - Trains a regressor on training data\n",
        "        - Scores data on training and test data\n",
        "        - Returns a trained model\n",
        "    \"\"\"\n",
        "    # Step 1: Initializing the sklearn regressor \n",
        "    regressor = sklearn_regressor(**model_parameters)\n",
        "    \n",
        "    # Step 2: Training the algorithm using the X_train dataset of features and y_train, the associated target features\n",
        "    regressor.fit(X_train, y_train)\n",
        "    \n",
        "    # Step 3: Calculating the score of the predictive power on the training and testing dataset.\n",
        "    training_score = regressor.score(X_train, y_train)\n",
        "    testing_score = regressor.score(X_test, y_test)\n",
        "    \n",
        "    # Print the results!\n",
        "    print(f\"Train score: {training_score:>5.4f}\")\n",
        "    print(f\"Test score: {testing_score:>7.4f}\")\n",
        "    if print_oob_score:\n",
        "        print(f\"OOB score: {regressor.oob_score_:>8.4f}\")\n",
        "        \n",
        "    return regressor"
      ],
      "execution_count": 0,
      "outputs": []
    },
    {
      "cell_type": "code",
      "metadata": {
        "colab_type": "code",
        "id": "wyVbHCVZrblK",
        "outputId": "e6115c31-4f75-450c-b470-6e72e87c0f84",
        "colab": {
          "base_uri": "https://localhost:8080/",
          "height": 66
        }
      },
      "source": [
        "# define the parameters\n",
        "parameters = {\"oob_score\": True, \n",
        "              \"n_estimators\": 50, \n",
        "              \"max_features\": num_features, \n",
        "              'random_state': 42}\n",
        "\n",
        "trained_regressor = train_score_regressor(sklearn_regressor=RandomForestRegressor,\n",
        "                                          X_train=X_train, \n",
        "                                          y_train=y_train, \n",
        "                                          X_test=X_test, \n",
        "                                          y_test=y_test, \n",
        "                                          model_parameters=parameters,\n",
        "                                          print_oob_score=True)"
      ],
      "execution_count": 11,
      "outputs": [
        {
          "output_type": "stream",
          "text": [
            "Train score: 0.3847\n",
            "Test score:  0.1284\n",
            "OOB score:   0.0670\n"
          ],
          "name": "stdout"
        }
      ]
    },
    {
      "cell_type": "code",
      "metadata": {
        "colab_type": "code",
        "id": "UmXiun64uovJ",
        "colab": {}
      },
      "source": [
        "# Plot a graph of the true values vs the predicted values for the training and test datasets\n",
        "def plot_y_yhat_scatter(y_actual,y_predicted,train_test):\n",
        "    ax = sns.regplot(x=y_actual, y=y_predicted, fit_reg=False)\n",
        "    ax.set_xlabel('true values')\n",
        "    ax.set_ylabel('predicted values')\n",
        "    ax.set_title('Relationship between true and predicted DISPONIBLE amounts: '+train_test+' results')\n",
        "    pass"
      ],
      "execution_count": 0,
      "outputs": []
    },
    {
      "cell_type": "code",
      "metadata": {
        "colab_type": "code",
        "id": "MvwdukaGuwv0",
        "outputId": "c1dc52b4-4240-461d-ff2d-6654fa037f7c",
        "colab": {
          "base_uri": "https://localhost:8080/",
          "height": 295
        }
      },
      "source": [
        "plot_y_yhat_scatter(y_train, trained_regressor.predict(X_train),train_test=\"training\")"
      ],
      "execution_count": 13,
      "outputs": [
        {
          "output_type": "display_data",
          "data": {
            "image/png": "[encoded data removed]",
            "text/plain": [
              "<Figure size 432x288 with 1 Axes>"
            ]
          },
          "metadata": {
            "tags": []
          }
        }
      ]
    },
    {
      "cell_type": "code",
      "metadata": {
        "colab_type": "code",
        "id": "p0i0cUfLvzs2",
        "outputId": "6c3469ab-a1ed-4acd-f661-d68c058f26f4",
        "colab": {
          "base_uri": "https://localhost:8080/",
          "height": 295
        }
      },
      "source": [
        "plot_y_yhat_scatter(y_test, trained_regressor.predict(X_test),train_test=\"testing\")"
      ],
      "execution_count": 14,
      "outputs": [
        {
          "output_type": "display_data",
          "data": {
            "image/png": "[encoded data removed]",
            "text/plain": [
              "<Figure size 432x288 with 1 Axes>"
            ]
          },
          "metadata": {
            "tags": []
          }
        }
      ]
    },
    {
      "cell_type": "markdown",
      "metadata": {
        "colab_type": "text",
        "id": "Dr7yZAE4v6jJ"
      },
      "source": [
        "Tune Parameters\n",
        "\n",
        "Again, how do we know the best combination of hyperparameters?\n",
        "\n",
        "Cross validated Grid Search!\n",
        "\n",
        "We're searching over a small range here to save time but in practice, we should search over a bigger range of hyperparameters.\n",
        "\n",
        "This can take a while"
      ]
    },
    {
      "cell_type": "code",
      "metadata": {
        "colab_type": "code",
        "id": "BwsszIi7v9_D",
        "outputId": "efdfd9a7-e439-4f6f-e855-d8cf7ccc8667",
        "colab": {
          "base_uri": "https://localhost:8080/",
          "height": 326
        }
      },
      "source": [
        "# define parameters\n",
        "parameters = {'max_depth':[7,10,15], \n",
        "#               'max_features': ['sqrt', 5, 10],\n",
        "              'n_estimators': [50,100,200]}\n",
        "# initialize model\n",
        "rf_regressor= RandomForestRegressor(n_jobs=-1, random_state=42)\n",
        "# initialize grid search and fit\n",
        "regressor = GridSearchCV(rf_regressor, parameters)\n",
        "regressor.fit(X_train, y_train)"
      ],
      "execution_count": 15,
      "outputs": [
        {
          "output_type": "execute_result",
          "data": {
            "text/plain": [
              "GridSearchCV(cv=None, error_score=nan,\n",
              "             estimator=RandomForestRegressor(bootstrap=True, ccp_alpha=0.0,\n",
              "                                             criterion='mse', max_depth=None,\n",
              "                                             max_features='auto',\n",
              "                                             max_leaf_nodes=None,\n",
              "                                             max_samples=None,\n",
              "                                             min_impurity_decrease=0.0,\n",
              "                                             min_impurity_split=None,\n",
              "                                             min_samples_leaf=1,\n",
              "                                             min_samples_split=2,\n",
              "                                             min_weight_fraction_leaf=0.0,\n",
              "                                             n_estimators=100, n_jobs=-1,\n",
              "                                             oob_score=False, random_state=42,\n",
              "                                             verbose=0, warm_start=False),\n",
              "             iid='deprecated', n_jobs=None,\n",
              "             param_grid={'max_depth': [7, 10, 15],\n",
              "                         'n_estimators': [50, 100, 200]},\n",
              "             pre_dispatch='2*n_jobs', refit=True, return_train_score=False,\n",
              "             scoring=None, verbose=0)"
            ]
          },
          "metadata": {
            "tags": []
          },
          "execution_count": 15
        }
      ]
    },
    {
      "cell_type": "code",
      "metadata": {
        "colab_type": "code",
        "id": "8bO1pHPDwB0K",
        "outputId": "7b4c93c0-f858-4455-9d9b-faabbda3603a",
        "colab": {
          "base_uri": "https://localhost:8080/",
          "height": 310
        }
      },
      "source": [
        "# print out what GridSearchCV found to be the best parameters \n",
        "regressor.best_estimator_.get_params()"
      ],
      "execution_count": 16,
      "outputs": [
        {
          "output_type": "execute_result",
          "data": {
            "text/plain": [
              "{'bootstrap': True,\n",
              " 'ccp_alpha': 0.0,\n",
              " 'criterion': 'mse',\n",
              " 'max_depth': 7,\n",
              " 'max_features': 'auto',\n",
              " 'max_leaf_nodes': None,\n",
              " 'max_samples': None,\n",
              " 'min_impurity_decrease': 0.0,\n",
              " 'min_impurity_split': None,\n",
              " 'min_samples_leaf': 1,\n",
              " 'min_samples_split': 2,\n",
              " 'min_weight_fraction_leaf': 0.0,\n",
              " 'n_estimators': 200,\n",
              " 'n_jobs': -1,\n",
              " 'oob_score': False,\n",
              " 'random_state': 42,\n",
              " 'verbose': 0,\n",
              " 'warm_start': False}"
            ]
          },
          "metadata": {
            "tags": []
          },
          "execution_count": 16
        }
      ]
    },
    {
      "cell_type": "code",
      "metadata": {
        "colab_type": "code",
        "id": "UjRS3hJ2wETs",
        "outputId": "f4106767-6b88-441c-822a-e3a8b890bfb5",
        "colab": {
          "base_uri": "https://localhost:8080/",
          "height": 50
        }
      },
      "source": [
        "# Take the best parameters from grid search and fit a model\n",
        "parameters = regressor.best_estimator_.get_params()\n",
        "trained_regressor = train_score_regressor(sklearn_regressor=RandomForestRegressor,\n",
        "                                          X_train=X_train, \n",
        "                                          y_train=y_train, \n",
        "                                          X_test=X_test, \n",
        "                                          y_test=y_test, \n",
        "                                          model_parameters=parameters,\n",
        "                                          print_oob_score=False)"
      ],
      "execution_count": 17,
      "outputs": [
        {
          "output_type": "stream",
          "text": [
            "Train score: 0.3831\n",
            "Test score:  0.1700\n"
          ],
          "name": "stdout"
        }
      ]
    },
    {
      "cell_type": "markdown",
      "metadata": {
        "colab_type": "text",
        "id": "7GrfvaQXwH_5"
      },
      "source": [
        "Compare this Random Forest to the result from the Decision Tree.\n",
        "\n",
        "Which one is better?\n",
        "\n",
        "Why?\n",
        "\n"
      ]
    },
    {
      "cell_type": "code",
      "metadata": {
        "colab_type": "code",
        "id": "ICWLOqBiwKhY",
        "outputId": "16c536f9-87ce-40d0-98f7-00ce52fb09e6",
        "colab": {
          "base_uri": "https://localhost:8080/",
          "height": 295
        }
      },
      "source": [
        "plot_y_yhat_scatter(y_train, trained_regressor.predict(X_train),train_test=\"training\")"
      ],
      "execution_count": 18,
      "outputs": [
        {
          "output_type": "display_data",
          "data": {
            "image/png": "[encoded data removed]",
            "text/plain": [
              "<Figure size 432x288 with 1 Axes>"
            ]
          },
          "metadata": {
            "tags": []
          }
        }
      ]
    },
    {
      "cell_type": "code",
      "metadata": {
        "colab_type": "code",
        "id": "IoUcpCeowNP5",
        "outputId": "2e62ecbf-4aa2-4efc-b5c1-4300ba873bff",
        "colab": {
          "base_uri": "https://localhost:8080/",
          "height": 295
        }
      },
      "source": [
        "plot_y_yhat_scatter(y_test, trained_regressor.predict(X_test),train_test=\"testing\")"
      ],
      "execution_count": 19,
      "outputs": [
        {
          "output_type": "display_data",
          "data": {
            "image/png": "[encoded data removed]",
            "text/plain": [
              "<Figure size 432x288 with 1 Axes>"
            ]
          },
          "metadata": {
            "tags": []
          }
        }
      ]
    },
    {
      "cell_type": "markdown",
      "metadata": {
        "id": "0PZtzXsP3Tix",
        "colab_type": "text"
      },
      "source": [
        "## LINEAR REGRESSION"
      ]
    },
    {
      "cell_type": "code",
      "metadata": {
        "id": "O-tR1Aeo3Ti1",
        "colab_type": "code",
        "colab": {
          "base_uri": "https://localhost:8080/",
          "height": 50
        },
        "outputId": "3c47115c-facb-46f7-bd35-b674066ce049"
      },
      "source": [
        "# Definir un linearregressor\n",
        "\n",
        "lin_reg = LinearRegression()\n",
        "\n",
        "# Entrenar el regresor con el dataset de train\n",
        "\n",
        "lin_reg.fit(X_train, y_train)\n",
        "\n",
        "# Predecir valores para las variables independientes de test\n",
        "\n",
        "results = lin_reg.predict(X_test)\n",
        "\n",
        "# Calcular la precisión\n",
        "# Pista: explorar sklearn.metrics\n",
        "print(\"Precisión global: \" + str(metrics.r2_score(y_test, results)))\n",
        "print(\"MSE: \" + str(metrics.mean_squared_error(y_test, results)))"
      ],
      "execution_count": 20,
      "outputs": [
        {
          "output_type": "stream",
          "text": [
            "Precisión global: 0.04043044391541539\n",
            "MSE: 0.015800242742012256\n"
          ],
          "name": "stdout"
        }
      ]
    },
    {
      "cell_type": "markdown",
      "metadata": {
        "id": "0yov0DHP3Ti5",
        "colab_type": "text"
      },
      "source": [
        "### CROSS-VALIDATION FOR 20 RANDOM PARTITIONS"
      ]
    },
    {
      "cell_type": "code",
      "metadata": {
        "id": "6pNa0qIG3Ti6",
        "colab_type": "code",
        "colab": {}
      },
      "source": [
        "# Scale values with standard deviation\n",
        "X_train_scaled_list = []\n",
        "X_test_scaled_list = []\n",
        "y_train_list = []\n",
        "y_test_list = []\n",
        "\n",
        "# Loop for the 20 different partitions\n",
        "\n",
        "for i in range(20):\n",
        "    X_train, X_test, y_train, y_test = train_test_split( \\\n",
        "        X, y, test_size=0.3)\n",
        "    \n",
        "    # Standardization\n",
        "\n",
        "    scaler = preprocessing.StandardScaler().fit(X_train)\n",
        "    X_train_scaled = scaler.transform(X_train)\n",
        "    X_test_scaled = scaler.transform(X_test)\n",
        "    \n",
        "    # Append each partition to lists\n",
        "    \n",
        "    X_train_scaled_list.append(X_train_scaled)\n",
        "    X_test_scaled_list.append(X_test_scaled)\n",
        "    y_train_list.append(y_train)\n",
        "    y_test_list.append(y_test)"
      ],
      "execution_count": 0,
      "outputs": []
    },
    {
      "cell_type": "markdown",
      "metadata": {
        "id": "UoWegF0O3Ti9",
        "colab_type": "text"
      },
      "source": [
        "### Confusion matrix function"
      ]
    },
    {
      "cell_type": "code",
      "metadata": {
        "id": "H6riSRek3Ti-",
        "colab_type": "code",
        "colab": {}
      },
      "source": [
        "def conf_matrix(y_test, y_pred):\n",
        "    \n",
        "    \"\"\"The conf_matrix function returns the final average confusion matrix for every partition. Each individual\n",
        "    value of each confusion matrix is added up to the total confusion matrix, and in the end, each value of true\n",
        "    positives, true negatives, false positives and false negatives are divided by the total number of partitions:\n",
        "    in this case, 20.\n",
        "    \"\"\"\n",
        "    total_conf = np.zeros((2,2))\n",
        "    \n",
        "    #Confusion matrix for breast:\n",
        "    \n",
        "    for i in range(len(y_pred)):\n",
        "        confusion = confusion_matrix(y_test[i], y_pred[i])\n",
        "        total_conf += confusion\n",
        "\n",
        "    final_conf = total_conf / len(y_pred)\n",
        "    TNB = final_conf[0][0]\n",
        "    TPB = final_conf[1][1]\n",
        "    FPB = final_conf[0][1]\n",
        "    FNB = final_conf[1][0]\n",
        "\n",
        "    PA = ((TPB + TNB) / (TNB + TPB + FPB + FNB))\n",
        "    TPR = (TPB / (TPB + FNB))\n",
        "    TNR = (TNB / (TNB + FPB))\n",
        "\n",
        "    return final_conf, PA, TPR, TNR"
      ],
      "execution_count": 0,
      "outputs": []
    },
    {
      "cell_type": "markdown",
      "metadata": {
        "id": "AsdVsDG33TjB",
        "colab_type": "text"
      },
      "source": [
        "## NAIVE BAYES"
      ]
    },
    {
      "cell_type": "code",
      "metadata": {
        "id": "rfdKQ1pU3TjD",
        "colab_type": "code",
        "colab": {}
      },
      "source": [
        "def NB_partitions(X_train_scaled, X_test_scaled, y_train, y_test):\n",
        "    \n",
        "    \"\"\"NB_partitions fits the given partition scaled data sets to a Naive Bayes Classifier predictor. The predicted \n",
        "    classification output is stored in a variable, which is the input for the \n",
        "    \"\"\"\n",
        "    y_pred = []\n",
        "    \n",
        "    for i in range(len(X_test_scaled)):\n",
        "        nb = GaussianNB()  #Gaussian object for Naive Bayes classifier\n",
        "        nb.fit(X_train_scaled[i], y_train[i])\n",
        "        y_pred_b = nb.predict(X_test_scaled[i])\n",
        "        y_pred.append(y_pred_b)\n",
        "    \n",
        "    return conf_matrix(y_test, y_pred) #Calling the confusion matrix for Naive Bayes."
      ],
      "execution_count": 0,
      "outputs": []
    },
    {
      "cell_type": "code",
      "metadata": {
        "id": "zDts5-2I3TjI",
        "colab_type": "code",
        "colab": {}
      },
      "source": [
        "NB = NB_partitions(X_train_scaled_list, X_test_scaled_list, y_train_list, y_test_list) "
      ],
      "execution_count": 0,
      "outputs": []
    },
    {
      "cell_type": "code",
      "metadata": {
        "id": "CQPCGv1x3TjL",
        "colab_type": "code",
        "colab": {
          "base_uri": "https://localhost:8080/",
          "height": 115
        },
        "outputId": "5d4fd30a-1892-4ba5-9613-99d7c674b009"
      },
      "source": [
        "print(NB[0])\n",
        "print('Prediction accuracy is: %f' % NB[1] )\n",
        "print('True positive rate is: %f' % NB[2] )\n",
        "print('True negative rate is: %f\\n' % NB[3] )"
      ],
      "execution_count": 25,
      "outputs": [
        {
          "output_type": "stream",
          "text": [
            "[[597.65  21.3 ]\n",
            " [  6.45   1.6 ]]\n",
            "Prediction accuracy is: 0.955742\n",
            "True positive rate is: 0.198758\n",
            "True negative rate is: 0.965587\n",
            "\n"
          ],
          "name": "stdout"
        }
      ]
    },
    {
      "cell_type": "markdown",
      "metadata": {
        "id": "TkQxftJi3TjP",
        "colab_type": "text"
      },
      "source": [
        "### Linear Discriminant Analysis"
      ]
    },
    {
      "cell_type": "code",
      "metadata": {
        "id": "I_60uHD33TjQ",
        "colab_type": "code",
        "colab": {}
      },
      "source": [
        "def LDA_partitions(X_train_scaled, X_test_scaled, y_train, y_test):\n",
        "\n",
        "    \"\"\"This function fits the training and the test data sets to a Linear Discriminant Analysis object. The predicted\n",
        "    output is given as an input to the confusion matrix above\"\"\"\n",
        "    \n",
        "    y_pred = []\n",
        "    \n",
        "    for i in range(len(X_test_scaled)):\n",
        "        \n",
        "        # Fit to LDA & training\n",
        "        \n",
        "        lda = LinearDiscriminantAnalysis() #Defines the fit to a LDA.\n",
        "        lda.fit(X_train_scaled[i], y_train[i])\n",
        "        y_pred_b = lda.predict(X_test_scaled[i])\n",
        "        y_pred.append(y_pred_b)\n",
        "    \n",
        "    return conf_matrix(y_test, y_pred) #Calling the confusion matrix."
      ],
      "execution_count": 0,
      "outputs": []
    },
    {
      "cell_type": "code",
      "metadata": {
        "id": "2s2SEBx43TjU",
        "colab_type": "code",
        "colab": {}
      },
      "source": [
        "LDA = LDA_partitions(X_train_scaled_list, X_test_scaled_list, y_train_list, y_test_list) "
      ],
      "execution_count": 0,
      "outputs": []
    },
    {
      "cell_type": "code",
      "metadata": {
        "id": "GcBLCleT3Tja",
        "colab_type": "code",
        "colab": {
          "base_uri": "https://localhost:8080/",
          "height": 115
        },
        "outputId": "12ee4f05-0b6f-4cef-88fd-cb7d4a9b3c3a"
      },
      "source": [
        "print(LDA[0])\n",
        "print('Prediction accuracy is: %f' % LDA[1] )\n",
        "print('True positive rate is: %f' % LDA[2] )\n",
        "print('True negative rate is: %f\\n' % LDA[3] )"
      ],
      "execution_count": 28,
      "outputs": [
        {
          "output_type": "stream",
          "text": [
            "[[6.1435e+02 4.6000e+00]\n",
            " [7.6500e+00 4.0000e-01]]\n",
            "Prediction accuracy is: 0.980463\n",
            "True positive rate is: 0.049689\n",
            "True negative rate is: 0.992568\n",
            "\n"
          ],
          "name": "stdout"
        }
      ]
    },
    {
      "cell_type": "markdown",
      "metadata": {
        "id": "KP3qx7YP3Tje",
        "colab_type": "text"
      },
      "source": [
        "## Quadratic Discriminant Analysis"
      ]
    },
    {
      "cell_type": "code",
      "metadata": {
        "id": "zOWcvrxg3Tje",
        "colab_type": "code",
        "colab": {}
      },
      "source": [
        "def hyperparameters_QDA(X_train_scaled, y_train):\n",
        "    \n",
        "    \"\"\"Before running QDA, the optimal hyper-parameters are selected for each training set. Here, using the pipeline\n",
        "    for a Quadratic Discriminant Analysis, a 10-fold cross validation is performed for each of the training sets, \n",
        "    in such a way that the best lambda value is stored in a list, returning, in turn, a list length of 20 parameters. \n",
        "    This final list is one input of the QDA partition analysis.\"\"\"\n",
        "    \n",
        "    pipeline = Pipeline([ ('qda', QuadraticDiscriminantAnalysis()) ])\n",
        "    lambda_tot = []\n",
        "\n",
        "    #Choosing potential values for the regularization parameter.\n",
        "\n",
        "    reg_param_values = np.linspace(0, 1, 10).tolist()\n",
        "    param_grid = { 'qda__reg_param': reg_param_values }\n",
        "\n",
        "    for i in range(20):\n",
        "\n",
        "        # Evaluation of the performance of the values of the hyper-parameter.\n",
        "\n",
        "        skfold = RepeatedStratifiedKFold(n_splits=10, n_repeats=1, random_state=0)\n",
        "        gridcv = GridSearchCV(pipeline, cv=skfold, n_jobs=1, param_grid=param_grid, \\\n",
        "            scoring=make_scorer(accuracy_score))\n",
        "        gridcv.fit(X_train_scaled[i], y_train[i])\n",
        "\n",
        "        # Obtaining mean (and stdev) for CV\n",
        "\n",
        "        mean_accuracies = gridcv.cv_results_['mean_test_score']\n",
        "\n",
        "        # Selection of the highest value of lambda\n",
        "        param = reg_param_values[ np.argmax(mean_accuracies) ]\n",
        "        \n",
        "        lambda_tot.append(param)\n",
        "\n",
        "    return lambda_tot  # Final list of hyper-parameters."
      ],
      "execution_count": 0,
      "outputs": []
    },
    {
      "cell_type": "code",
      "metadata": {
        "id": "QbE8bKkX3Tjk",
        "colab_type": "code",
        "colab": {}
      },
      "source": [
        "hyper_QDA = hyperparameters_QDA(X_train_scaled_list, y_train_list)"
      ],
      "execution_count": 0,
      "outputs": []
    },
    {
      "cell_type": "code",
      "metadata": {
        "id": "gon5WtCt3Tjo",
        "colab_type": "code",
        "colab": {}
      },
      "source": [
        "def QDA_partitions(X_train_scaled, X_test_scaled, y_train, y_test, lambda_tot):\n",
        "    \n",
        "    \"\"\" After the hyper-parameters selection, the QDA is actually performed, using as regularization parameter each of\n",
        "    the lambda values from the function above. \"\"\"\n",
        "\n",
        "    y_pred = []\n",
        "    \n",
        "    for i in range(len(X_test_scaled)):\n",
        "        qda = QuadraticDiscriminantAnalysis(reg_param = lambda_tot[i]) # QDA setting with lambda values\n",
        "        qda.fit(X_train_scaled[i], y_train[i])\n",
        "        y_pred_b = qda.predict(X_test_scaled[i])\n",
        "        y_pred.append(y_pred_b)\n",
        "\n",
        "    return conf_matrix(y_test, y_pred) # Calling to confusion matrix."
      ],
      "execution_count": 0,
      "outputs": []
    },
    {
      "cell_type": "code",
      "metadata": {
        "id": "kh3lvWsc3Tjr",
        "colab_type": "code",
        "colab": {}
      },
      "source": [
        "QDA = QDA_partitions(X_train_scaled_list, X_test_scaled_list, y_train_list, y_test_list, hyper_QDA)"
      ],
      "execution_count": 0,
      "outputs": []
    },
    {
      "cell_type": "code",
      "metadata": {
        "id": "iLz4o-VU3Tjv",
        "colab_type": "code",
        "colab": {
          "base_uri": "https://localhost:8080/",
          "height": 115
        },
        "outputId": "6189413f-e4ad-4914-e7aa-5971059eb4ca"
      },
      "source": [
        "print(QDA[0])\n",
        "print('Prediction accuracy is: %f' % QDA[1] )\n",
        "print('True positive rate is: %f' % QDA[2] )\n",
        "print('True negative rate is: %f\\n' % QDA[3] )"
      ],
      "execution_count": 33,
      "outputs": [
        {
          "output_type": "stream",
          "text": [
            "[[614.25   4.7 ]\n",
            " [  7.4    0.65]]\n",
            "Prediction accuracy is: 0.980702\n",
            "True positive rate is: 0.080745\n",
            "True negative rate is: 0.992406\n",
            "\n"
          ],
          "name": "stdout"
        }
      ]
    },
    {
      "cell_type": "markdown",
      "metadata": {
        "id": "3vBsDna43Tj1",
        "colab_type": "text"
      },
      "source": [
        "## Nearest Shrunken Centroids Classifier"
      ]
    },
    {
      "cell_type": "code",
      "metadata": {
        "id": "L7DcVpcK3Tj2",
        "colab_type": "code",
        "colab": {}
      },
      "source": [
        "def hyperparameters_NSCC(X_train_scaled, y_train):\n",
        "    \n",
        "    \"\"\"Before running NSCC, the optimal hyper-parameters are selected for each training set. Here, using the pipeline\n",
        "    for a Nearest Centroid Classifier, a 10-fold cross validation is performed for each of the training sets, \n",
        "    in such a way that the best lambda value is stored in a list, returning, in turn, a list length of 20 parameters. \n",
        "    This final list is one input of the Nearest Centroid partition analysis.\"\"\"\n",
        "    \n",
        "    pipeline_nsc = Pipeline([ ('nsc', NearestCentroid()) ])\n",
        "    lambda_tot = []\n",
        "    \n",
        "    #Choosing potential values for the regularization parameter.\n",
        "    \n",
        "    shrinkage_param_values = np.linspace(0, 8, 20).tolist()\n",
        "    param_grid_nsc = {'nsc__shrink_threshold': shrinkage_param_values}\n",
        "\n",
        "    for i in range(20):\n",
        "\n",
        "        # Evaluation of the performance of the values of the hyper-parameter.\n",
        "\n",
        "        skfold = RepeatedStratifiedKFold(n_splits=10, n_repeats=1, random_state=0)\n",
        "        gridcv_nsc = GridSearchCV(pipeline_nsc, cv=skfold, n_jobs=1, param_grid=param_grid_nsc, \\\n",
        "            scoring=make_scorer(accuracy_score))\n",
        "        gridcv_nsc.fit(X_train_scaled[i], y_train[i])\n",
        "\n",
        "        # Obtaining mean for CV\n",
        "        \n",
        "        mean_accuracies_nsc_bre = gridcv_nsc.cv_results_['mean_test_score']\n",
        "        \n",
        "        # Selection of the highest value of lambda\n",
        "        \n",
        "        lambda_b = shrinkage_param_values[ np.argmax(mean_accuracies_nsc_bre) ]\n",
        "        lambda_tot.append(lambda_b)\n",
        "\n",
        "    return lambda_tot #Final list of hyper-parameters."
      ],
      "execution_count": 0,
      "outputs": []
    },
    {
      "cell_type": "code",
      "metadata": {
        "id": "Csnzb7Op3Tj5",
        "colab_type": "code",
        "colab": {}
      },
      "source": [
        "hyper_NSCC = hyperparameters_NSCC(X_train_scaled_list, y_train_list)"
      ],
      "execution_count": 0,
      "outputs": []
    },
    {
      "cell_type": "code",
      "metadata": {
        "id": "vNbtvZM73Tj7",
        "colab_type": "code",
        "colab": {}
      },
      "source": [
        "def NSCC_partitions(X_train_scaled, X_test_scaled, y_train, y_test, lambda_tot):\n",
        "   \n",
        "    \"\"\" After the hyper-parameters selection, the QDA is actually performed, using as regularization parameter each of\n",
        "   the lambda values from the function above. \"\"\"\n",
        "    y_pred = []\n",
        "    \n",
        "    for i in range(len(X_test_scaled)):\n",
        "        nsc = NearestCentroid(shrink_threshold = lambda_tot[i])\n",
        "        nsc.fit(X_train_scaled[i], y_train[i])\n",
        "        y_pred_b = nsc.predict(X_test_scaled[i])\n",
        "        y_pred.append(y_pred_b)\n",
        "\n",
        "    return conf_matrix(y_test, y_pred) "
      ],
      "execution_count": 0,
      "outputs": []
    },
    {
      "cell_type": "code",
      "metadata": {
        "id": "mDzNdRMD3Tj9",
        "colab_type": "code",
        "colab": {}
      },
      "source": [
        "NSCC = NSCC_partitions(X_train_scaled_list, X_test_scaled_list, y_train_list, y_test_list, hyper_NSCC)"
      ],
      "execution_count": 0,
      "outputs": []
    },
    {
      "cell_type": "code",
      "metadata": {
        "id": "Z7Ngs-SB3TkD",
        "colab_type": "code",
        "colab": {
          "base_uri": "https://localhost:8080/",
          "height": 115
        },
        "outputId": "002bbd09-525a-455e-aa6b-b6d68a485a2b"
      },
      "source": [
        "print(NSCC[0])\n",
        "print('Prediction accuracy is: %f' % NSCC[1] )\n",
        "print('True positive rate is: %f' % NSCC[2] )\n",
        "print('True negative rate is: %f\\n' % NSCC[3] )"
      ],
      "execution_count": 38,
      "outputs": [
        {
          "output_type": "stream",
          "text": [
            "[[618.95   0.  ]\n",
            " [  8.05   0.  ]]\n",
            "Prediction accuracy is: 0.987161\n",
            "True positive rate is: 0.000000\n",
            "True negative rate is: 1.000000\n",
            "\n"
          ],
          "name": "stdout"
        }
      ]
    },
    {
      "cell_type": "code",
      "metadata": {
        "id": "sQQCTm-u3TkK",
        "colab_type": "code",
        "colab": {}
      },
      "source": [
        ""
      ],
      "execution_count": 0,
      "outputs": []
    }
  ]
}