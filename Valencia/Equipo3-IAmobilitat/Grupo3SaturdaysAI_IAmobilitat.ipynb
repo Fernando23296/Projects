{
  "nbformat": 4,
  "nbformat_minor": 0,
  "metadata": {
    "colab": {
      "name": "Grupo3SaturdaysAI_IAmobilitat.ipynb",
      "provenance": [],
      "collapsed_sections": [
        "pidOp9iAY4WR",
        "jY1KVsPBZCch",
        "fBe5jr0KgalT"
      ],
      "machine_shape": "hm"
    },
    "kernelspec": {
      "name": "python3",
      "display_name": "Python 3"
    }
  },
  "cells": [
    {
      "cell_type": "markdown",
      "metadata": {
        "id": "1AqGXp4D1ACI",
        "colab_type": "text"
      },
      "source": [
        "# Import packages & Connect the database"
      ]
    },
    {
      "cell_type": "code",
      "metadata": {
        "id": "rcqVUhDBDY5L",
        "colab_type": "code",
        "outputId": "6a1eabec-b278-475a-d06d-9660748f76d5",
        "colab": {
          "base_uri": "https://localhost:8080/",
          "height": 34
        }
      },
      "source": [
        "# Install MYSQL client\n",
        "pip install PyMySQL"
      ],
      "execution_count": 0,
      "outputs": [
        {
          "output_type": "stream",
          "text": [
            "Requirement already satisfied: PyMySQL in /usr/local/lib/python3.6/dist-packages (0.9.3)\n"
          ],
          "name": "stdout"
        }
      ]
    },
    {
      "cell_type": "code",
      "metadata": {
        "id": "JOyZCRsaKLPE",
        "colab_type": "code",
        "outputId": "95372cd6-dc77-439d-c813-bb41e2048375",
        "colab": {
          "base_uri": "https://localhost:8080/",
          "height": 34
        }
      },
      "source": [
        "import sklearn\n",
        "\n",
        "print('The scikit-learn version is {}.'.format(sklearn.__version__))"
      ],
      "execution_count": 0,
      "outputs": [
        {
          "output_type": "stream",
          "text": [
            "The scikit-learn version is 0.22.1.\n"
          ],
          "name": "stdout"
        }
      ]
    },
    {
      "cell_type": "code",
      "metadata": {
        "id": "bpYhJw6NkjRf",
        "colab_type": "code",
        "outputId": "427b9844-1b6f-4595-e0c0-06e7aad01d81",
        "colab": {
          "base_uri": "https://localhost:8080/",
          "height": 51
        }
      },
      "source": [
        "%load_ext autoreload\n",
        "%autoreload 2\n",
        "\n",
        "%matplotlib inline"
      ],
      "execution_count": 0,
      "outputs": [
        {
          "output_type": "stream",
          "text": [
            "The autoreload extension is already loaded. To reload it, use:\n",
            "  %reload_ext autoreload\n"
          ],
          "name": "stdout"
        }
      ]
    },
    {
      "cell_type": "code",
      "metadata": {
        "id": "bHIFzkELKE64",
        "colab_type": "code",
        "colab": {}
      },
      "source": [
        "import numpy as np\n",
        "import pandas as pd\n",
        "import datetime as dt"
      ],
      "execution_count": 0,
      "outputs": []
    },
    {
      "cell_type": "code",
      "metadata": {
        "id": "aU3jKw1aBVHI",
        "colab_type": "code",
        "colab": {}
      },
      "source": [
        "# Connect to database\n",
        "import pymysql\n",
        "\n",
        "conn = pymysql.connect(\n",
        "    host='34.69.136.137',\n",
        "    port=int(3306),\n",
        "    user='root',\n",
        "    passwd='rtfgvb77884',\n",
        "    db='valenbisi',\n",
        "    charset='utf8mb4')"
      ],
      "execution_count": 0,
      "outputs": []
    },
    {
      "cell_type": "markdown",
      "metadata": {
        "id": "EZQZwZT205q0",
        "colab_type": "text"
      },
      "source": [
        "# Prepare data"
      ]
    },
    {
      "cell_type": "code",
      "metadata": {
        "id": "hMTOkLPvUy-D",
        "colab_type": "code",
        "colab": {}
      },
      "source": [
        "# Get Stations\n",
        "df_station_snapshot = pd.read_sql_query(\"SELECT station_number, station_service_available, creation_date FROM station_snapshot WHERE station_number=31\",\n",
        "    conn)"
      ],
      "execution_count": 0,
      "outputs": []
    },
    {
      "cell_type": "code",
      "metadata": {
        "id": "ZZg-nxv1lDnQ",
        "colab_type": "code",
        "colab": {}
      },
      "source": [
        "def substractTime(x):\n",
        "  date = dt.datetime(x.year, x.month, x.day, x.hour)\n",
        "  return (date - dt.timedelta(hours=1))\n",
        "\n",
        "def addTime(x):\n",
        "  date = dt.datetime(x.year, x.month, x.day, x.hour)\n",
        "  return (date + dt.timedelta(hours=1))\n",
        "\n",
        "def getPrevAvailable(d_f, row):\n",
        "  new_dateTime = substractTime(row['datetime'])\n",
        "  try:\n",
        "    return d_f[(d_f['id'] == row['id']) & (d_f['year'] == new_dateTime.year) & (d_f['month'] == new_dateTime.month) & (d_f['day'] == new_dateTime.day) & (d_f['hour'] == new_dateTime.hour)].iloc[0, d_f.columns.get_loc('available')]    \n",
        "  except:\n",
        "    return 0\n",
        "\n",
        "def getNextAvailable(d_f, row):\n",
        "  new_dateTime = addTime(row['datetime'])\n",
        "  try:\n",
        "    return d_f[(d_f['id'] == row['id']) & (d_f['year'] == new_dateTime.year) & (d_f['month'] == new_dateTime.month) & (d_f['day'] == new_dateTime.day) & (d_f['hour'] == new_dateTime.hour)].iloc[0, d_f.columns.get_loc('available')]    \n",
        "  except:\n",
        "    return 0"
      ],
      "execution_count": 0,
      "outputs": []
    },
    {
      "cell_type": "code",
      "metadata": {
        "id": "OPnNP86rSHXZ",
        "colab_type": "code",
        "colab": {}
      },
      "source": [
        "# Update titles\n",
        "df_stations = df_station_snapshot.rename(index=str, columns={\"station_number\": \"id\", \"station_service_available\": \"available\", \"creation_date\": \"datetime\"})\n",
        "\n",
        "df_stations['id'] = df_stations['id'].astype(str).astype(int);\n",
        "\n",
        "# Transform date strinf to date without seconds\n",
        "df_stations['datetime'] = pd.to_datetime(df_stations['datetime'], infer_datetime_format=True)\n",
        "df_stations['datetime'] = df_stations['datetime'].dt.floor('H')\n",
        "\n",
        "# # Sort by datetime\n",
        "df_stations.sort_values(by=['datetime'], inplace=True, ascending=True)\n",
        "\n",
        "# # Separate datetime in columns\n",
        "df_stations['date'] = df_stations['datetime'].dt.date\n",
        "df_stations['hour'] = df_stations['datetime'].dt.hour\n",
        "df_stations['year'] = df_stations['datetime'].dt.year\n",
        "df_stations['month'] = df_stations['datetime'].dt.month\n",
        "df_stations['day'] = df_stations['datetime'].dt.day\n",
        "df_stations['dayofweek'] = df_stations['datetime'].dt.dayofweek\n",
        "\n",
        "# Group and avg by time\n",
        "df_stations['available'] = df_stations.groupby(['id', 'date', 'hour'])['available'].transform('mean').astype(int)\n",
        "df_stations.drop_duplicates(subset=['id', 'date', 'hour'], keep='first', inplace=True)\n",
        "\n",
        "# # Set multiple avaiables\n",
        "df_stations['available_prev'] = df_stations.apply(lambda x: getPrevAvailable(df_stations, x), axis=1)\n",
        "df_stations['available_next'] = df_stations.apply(lambda x: getNextAvailable(df_stations, x), axis=1)\n",
        "\n",
        "# # Clean columns\n",
        "df_stations.drop(['datetime', 'day'], axis=1, inplace=True)"
      ],
      "execution_count": 0,
      "outputs": []
    },
    {
      "cell_type": "code",
      "metadata": {
        "id": "XjjkZ6M1SyE-",
        "colab_type": "code",
        "outputId": "45ef527a-e67f-4468-9d20-d2c63a91dc0e",
        "colab": {
          "base_uri": "https://localhost:8080/",
          "height": 204
        }
      },
      "source": [
        "df_stations.tail()"
      ],
      "execution_count": 0,
      "outputs": [
        {
          "output_type": "execute_result",
          "data": {
            "text/html": [
              "<div>\n",
              "<style scoped>\n",
              "    .dataframe tbody tr th:only-of-type {\n",
              "        vertical-align: middle;\n",
              "    }\n",
              "\n",
              "    .dataframe tbody tr th {\n",
              "        vertical-align: top;\n",
              "    }\n",
              "\n",
              "    .dataframe thead th {\n",
              "        text-align: right;\n",
              "    }\n",
              "</style>\n",
              "<table border=\"1\" class=\"dataframe\">\n",
              "  <thead>\n",
              "    <tr style=\"text-align: right;\">\n",
              "      <th></th>\n",
              "      <th>id</th>\n",
              "      <th>available</th>\n",
              "      <th>date</th>\n",
              "      <th>hour</th>\n",
              "      <th>year</th>\n",
              "      <th>month</th>\n",
              "      <th>dayofweek</th>\n",
              "      <th>available_prev</th>\n",
              "      <th>available_next</th>\n",
              "    </tr>\n",
              "  </thead>\n",
              "  <tbody>\n",
              "    <tr>\n",
              "      <th>60560</th>\n",
              "      <td>31</td>\n",
              "      <td>16</td>\n",
              "      <td>2020-02-11</td>\n",
              "      <td>13</td>\n",
              "      <td>2020</td>\n",
              "      <td>2</td>\n",
              "      <td>1</td>\n",
              "      <td>16</td>\n",
              "      <td>17</td>\n",
              "    </tr>\n",
              "    <tr>\n",
              "      <th>81522</th>\n",
              "      <td>31</td>\n",
              "      <td>17</td>\n",
              "      <td>2020-02-11</td>\n",
              "      <td>14</td>\n",
              "      <td>2020</td>\n",
              "      <td>2</td>\n",
              "      <td>1</td>\n",
              "      <td>16</td>\n",
              "      <td>17</td>\n",
              "    </tr>\n",
              "    <tr>\n",
              "      <th>19544</th>\n",
              "      <td>31</td>\n",
              "      <td>17</td>\n",
              "      <td>2020-02-11</td>\n",
              "      <td>15</td>\n",
              "      <td>2020</td>\n",
              "      <td>2</td>\n",
              "      <td>1</td>\n",
              "      <td>17</td>\n",
              "      <td>16</td>\n",
              "    </tr>\n",
              "    <tr>\n",
              "      <th>84216</th>\n",
              "      <td>31</td>\n",
              "      <td>16</td>\n",
              "      <td>2020-02-11</td>\n",
              "      <td>16</td>\n",
              "      <td>2020</td>\n",
              "      <td>2</td>\n",
              "      <td>1</td>\n",
              "      <td>17</td>\n",
              "      <td>15</td>\n",
              "    </tr>\n",
              "    <tr>\n",
              "      <th>21903</th>\n",
              "      <td>31</td>\n",
              "      <td>15</td>\n",
              "      <td>2020-02-11</td>\n",
              "      <td>17</td>\n",
              "      <td>2020</td>\n",
              "      <td>2</td>\n",
              "      <td>1</td>\n",
              "      <td>16</td>\n",
              "      <td>0</td>\n",
              "    </tr>\n",
              "  </tbody>\n",
              "</table>\n",
              "</div>"
            ],
            "text/plain": [
              "       id  available        date  ...  dayofweek  available_prev  available_next\n",
              "60560  31         16  2020-02-11  ...          1              16              17\n",
              "81522  31         17  2020-02-11  ...          1              16              17\n",
              "19544  31         17  2020-02-11  ...          1              17              16\n",
              "84216  31         16  2020-02-11  ...          1              17              15\n",
              "21903  31         15  2020-02-11  ...          1              16               0\n",
              "\n",
              "[5 rows x 9 columns]"
            ]
          },
          "metadata": {
            "tags": []
          },
          "execution_count": 20
        }
      ]
    },
    {
      "cell_type": "code",
      "metadata": {
        "id": "kafyTgDl3n3E",
        "colab_type": "code",
        "colab": {}
      },
      "source": [
        "# Get Holidays\n",
        "df_holiday_snapshot = pd.read_sql_query(\"SELECT date, enabled FROM holiday\",\n",
        "    conn)"
      ],
      "execution_count": 0,
      "outputs": []
    },
    {
      "cell_type": "code",
      "metadata": {
        "id": "0N8URm72PQWj",
        "colab_type": "code",
        "colab": {}
      },
      "source": [
        "# Update titles\n",
        "df_holiday = df_holiday_snapshot.rename(index=str, columns={\"enabled\": \"holiday\"})\n",
        "\n",
        "# Sort by datetime\n",
        "df_holiday.sort_values(by=['date'], inplace=True, ascending=True)"
      ],
      "execution_count": 0,
      "outputs": []
    },
    {
      "cell_type": "code",
      "metadata": {
        "id": "7p2oReTVxqDX",
        "colab_type": "code",
        "colab": {}
      },
      "source": [
        "# Get Sport Events\n",
        "df_event_snapshot = pd.read_sql_query(\"SELECT date, football, basketball FROM sport_event\",\n",
        "    conn)"
      ],
      "execution_count": 0,
      "outputs": []
    },
    {
      "cell_type": "code",
      "metadata": {
        "id": "idHWx1dkFafL",
        "colab_type": "code",
        "colab": {}
      },
      "source": [
        "# Clone data frame\n",
        "df_event = df_event_snapshot\n",
        "\n",
        "# Sort by datetime\n",
        "df_event.sort_values(by=['date'], inplace=True, ascending=True)"
      ],
      "execution_count": 0,
      "outputs": []
    },
    {
      "cell_type": "code",
      "metadata": {
        "id": "_uDM3VfTypKl",
        "colab_type": "code",
        "colab": {}
      },
      "source": [
        "# Get Weather\n",
        "df_weather_snapshot = pd.read_sql_query(\"SELECT temperature, humidity, wind_speed, cloud_percentage, creation_date FROM weather\",\n",
        "    conn)"
      ],
      "execution_count": 0,
      "outputs": []
    },
    {
      "cell_type": "code",
      "metadata": {
        "id": "Rp1aQbbPzN6u",
        "colab_type": "code",
        "colab": {}
      },
      "source": [
        "# Update titles\n",
        "df_weather = df_weather_snapshot.rename(index=str, columns={\"wind_speed\": \"wind\", \"cloud_percentage\": \"cloud\", \"creation_date\": \"datetime\"})\n",
        "\n",
        "# Transform date strinf to date without seconds\n",
        "df_weather['datetime'] = pd.to_datetime(df_weather['datetime'], infer_datetime_format=True)\n",
        "df_weather['datetime'] = df_weather['datetime'].dt.floor('H')\n",
        "\n",
        "# Separate datetime in two columns\n",
        "df_weather['date'] = df_weather['datetime'].dt.date\n",
        "df_weather['hour'] = df_weather['datetime'].dt.hour\n",
        "\n",
        "# Group by datetime and get mean of the data\n",
        "df_weather['temperature'] = df_weather.groupby(['hour', 'date'])['temperature'].transform('mean')\n",
        "df_weather['humidity'] = df_weather.groupby(['hour', 'date'])['humidity'].transform('mean')\n",
        "df_weather['wind'] = df_weather.groupby(['hour', 'date'])['wind'].transform('mean')\n",
        "df_weather['cloud'] = df_weather.groupby(['hour', 'date'])['cloud'].transform('mean')\n",
        "\n",
        "# Clean duplicated rows\n",
        "df_weather.drop_duplicates(subset=['date', 'hour'], keep='first', inplace=True)\n",
        "\n",
        "# Clean columns\n",
        "df_weather.drop(['datetime'], axis=1, inplace=True)"
      ],
      "execution_count": 0,
      "outputs": []
    },
    {
      "cell_type": "code",
      "metadata": {
        "id": "4jQ_pkAZPYlu",
        "colab_type": "code",
        "colab": {}
      },
      "source": [
        "# Merge stations with holidays\n",
        "df = pd.merge(\n",
        "    df_stations,\n",
        "    df_holiday,\n",
        "    how='left',\n",
        "    left_on=['date'],\n",
        "    right_on=['date']\n",
        ")\n",
        "\n",
        "# Replace NaN with 0\n",
        "df['holiday'] = df['holiday'].fillna(0)\n",
        "\n",
        "# Merge (stations with holidays) with sport events\n",
        "df = pd.merge(\n",
        "    df,\n",
        "    df_event,\n",
        "    how='left',\n",
        "    left_on=['date'],\n",
        "    right_on=['date']\n",
        ")\n",
        "\n",
        "# Replace NaN with 0\n",
        "df['football'] = df['football'].fillna(0)\n",
        "df['basketball'] = df['basketball'].fillna(0)\n",
        "\n",
        "# Merge ((stations with holidays) with sport events) with weather\n",
        "df = pd.merge(\n",
        "    df,\n",
        "    df_weather,\n",
        "    how='left',\n",
        "    left_on=['date', 'hour'],\n",
        "    right_on=['date', 'hour']\n",
        ")\n",
        "\n",
        "# Replace NaN with 0\n",
        "df['temperature'] = df['temperature'].fillna(0)\n",
        "df['humidity'] = df['humidity'].fillna(0)\n",
        "df['wind'] = df['wind'].fillna(0)\n",
        "df['cloud'] = df['cloud'].fillna(0)"
      ],
      "execution_count": 0,
      "outputs": []
    },
    {
      "cell_type": "code",
      "metadata": {
        "id": "TDbbwA_OQgLb",
        "colab_type": "code",
        "outputId": "cf014c5d-960c-4c12-f8c7-27bdfa367762",
        "colab": {
          "base_uri": "https://localhost:8080/",
          "height": 376
        }
      },
      "source": [
        "# Show latest data\n",
        "print('DATA AGGREGATED FOR STATION: ' + station)\n",
        "df.tail(10)"
      ],
      "execution_count": 0,
      "outputs": [
        {
          "output_type": "stream",
          "text": [
            "DATA AGGREGATED FOR STATION: 31\n"
          ],
          "name": "stdout"
        },
        {
          "output_type": "execute_result",
          "data": {
            "text/html": [
              "<div>\n",
              "<style scoped>\n",
              "    .dataframe tbody tr th:only-of-type {\n",
              "        vertical-align: middle;\n",
              "    }\n",
              "\n",
              "    .dataframe tbody tr th {\n",
              "        vertical-align: top;\n",
              "    }\n",
              "\n",
              "    .dataframe thead th {\n",
              "        text-align: right;\n",
              "    }\n",
              "</style>\n",
              "<table border=\"1\" class=\"dataframe\">\n",
              "  <thead>\n",
              "    <tr style=\"text-align: right;\">\n",
              "      <th></th>\n",
              "      <th>available</th>\n",
              "      <th>date</th>\n",
              "      <th>hour</th>\n",
              "      <th>year</th>\n",
              "      <th>month</th>\n",
              "      <th>dayofweek</th>\n",
              "      <th>available_prev</th>\n",
              "      <th>available_next</th>\n",
              "      <th>holiday</th>\n",
              "      <th>football</th>\n",
              "      <th>basketball</th>\n",
              "      <th>temperature</th>\n",
              "      <th>humidity</th>\n",
              "      <th>wind</th>\n",
              "      <th>cloud</th>\n",
              "    </tr>\n",
              "  </thead>\n",
              "  <tbody>\n",
              "    <tr>\n",
              "      <th>1472</th>\n",
              "      <td>7</td>\n",
              "      <td>2020-02-08</td>\n",
              "      <td>6</td>\n",
              "      <td>2020</td>\n",
              "      <td>2</td>\n",
              "      <td>5</td>\n",
              "      <td>7</td>\n",
              "      <td>7</td>\n",
              "      <td>0</td>\n",
              "      <td>0</td>\n",
              "      <td>0</td>\n",
              "      <td>6.185000</td>\n",
              "      <td>95.566667</td>\n",
              "      <td>1.293333</td>\n",
              "      <td>0.000000</td>\n",
              "    </tr>\n",
              "    <tr>\n",
              "      <th>1473</th>\n",
              "      <td>7</td>\n",
              "      <td>2020-02-08</td>\n",
              "      <td>7</td>\n",
              "      <td>2020</td>\n",
              "      <td>2</td>\n",
              "      <td>5</td>\n",
              "      <td>7</td>\n",
              "      <td>6</td>\n",
              "      <td>0</td>\n",
              "      <td>0</td>\n",
              "      <td>0</td>\n",
              "      <td>6.181833</td>\n",
              "      <td>93.000000</td>\n",
              "      <td>1.871667</td>\n",
              "      <td>10.666667</td>\n",
              "    </tr>\n",
              "    <tr>\n",
              "      <th>1474</th>\n",
              "      <td>6</td>\n",
              "      <td>2020-02-08</td>\n",
              "      <td>8</td>\n",
              "      <td>2020</td>\n",
              "      <td>2</td>\n",
              "      <td>5</td>\n",
              "      <td>7</td>\n",
              "      <td>4</td>\n",
              "      <td>0</td>\n",
              "      <td>0</td>\n",
              "      <td>0</td>\n",
              "      <td>7.779333</td>\n",
              "      <td>93.000000</td>\n",
              "      <td>1.560000</td>\n",
              "      <td>0.000000</td>\n",
              "    </tr>\n",
              "    <tr>\n",
              "      <th>1475</th>\n",
              "      <td>4</td>\n",
              "      <td>2020-02-08</td>\n",
              "      <td>9</td>\n",
              "      <td>2020</td>\n",
              "      <td>2</td>\n",
              "      <td>5</td>\n",
              "      <td>6</td>\n",
              "      <td>3</td>\n",
              "      <td>0</td>\n",
              "      <td>0</td>\n",
              "      <td>0</td>\n",
              "      <td>10.684167</td>\n",
              "      <td>87.400000</td>\n",
              "      <td>0.675333</td>\n",
              "      <td>0.000000</td>\n",
              "    </tr>\n",
              "    <tr>\n",
              "      <th>1476</th>\n",
              "      <td>3</td>\n",
              "      <td>2020-02-08</td>\n",
              "      <td>10</td>\n",
              "      <td>2020</td>\n",
              "      <td>2</td>\n",
              "      <td>5</td>\n",
              "      <td>4</td>\n",
              "      <td>7</td>\n",
              "      <td>0</td>\n",
              "      <td>0</td>\n",
              "      <td>0</td>\n",
              "      <td>13.145333</td>\n",
              "      <td>76.616667</td>\n",
              "      <td>1.265833</td>\n",
              "      <td>0.000000</td>\n",
              "    </tr>\n",
              "    <tr>\n",
              "      <th>1477</th>\n",
              "      <td>7</td>\n",
              "      <td>2020-02-08</td>\n",
              "      <td>11</td>\n",
              "      <td>2020</td>\n",
              "      <td>2</td>\n",
              "      <td>5</td>\n",
              "      <td>3</td>\n",
              "      <td>14</td>\n",
              "      <td>0</td>\n",
              "      <td>0</td>\n",
              "      <td>0</td>\n",
              "      <td>15.177167</td>\n",
              "      <td>61.266667</td>\n",
              "      <td>1.724000</td>\n",
              "      <td>2.000000</td>\n",
              "    </tr>\n",
              "    <tr>\n",
              "      <th>1478</th>\n",
              "      <td>14</td>\n",
              "      <td>2020-02-08</td>\n",
              "      <td>12</td>\n",
              "      <td>2020</td>\n",
              "      <td>2</td>\n",
              "      <td>5</td>\n",
              "      <td>7</td>\n",
              "      <td>10</td>\n",
              "      <td>0</td>\n",
              "      <td>0</td>\n",
              "      <td>0</td>\n",
              "      <td>15.971500</td>\n",
              "      <td>60.066667</td>\n",
              "      <td>0.600000</td>\n",
              "      <td>20.000000</td>\n",
              "    </tr>\n",
              "    <tr>\n",
              "      <th>1479</th>\n",
              "      <td>10</td>\n",
              "      <td>2020-02-08</td>\n",
              "      <td>13</td>\n",
              "      <td>2020</td>\n",
              "      <td>2</td>\n",
              "      <td>5</td>\n",
              "      <td>14</td>\n",
              "      <td>8</td>\n",
              "      <td>0</td>\n",
              "      <td>0</td>\n",
              "      <td>0</td>\n",
              "      <td>16.433667</td>\n",
              "      <td>56.333333</td>\n",
              "      <td>1.733333</td>\n",
              "      <td>20.000000</td>\n",
              "    </tr>\n",
              "    <tr>\n",
              "      <th>1480</th>\n",
              "      <td>8</td>\n",
              "      <td>2020-02-08</td>\n",
              "      <td>14</td>\n",
              "      <td>2020</td>\n",
              "      <td>2</td>\n",
              "      <td>5</td>\n",
              "      <td>10</td>\n",
              "      <td>10</td>\n",
              "      <td>0</td>\n",
              "      <td>0</td>\n",
              "      <td>0</td>\n",
              "      <td>16.451667</td>\n",
              "      <td>58.733333</td>\n",
              "      <td>2.933333</td>\n",
              "      <td>20.000000</td>\n",
              "    </tr>\n",
              "    <tr>\n",
              "      <th>1481</th>\n",
              "      <td>10</td>\n",
              "      <td>2020-02-08</td>\n",
              "      <td>15</td>\n",
              "      <td>2020</td>\n",
              "      <td>2</td>\n",
              "      <td>5</td>\n",
              "      <td>8</td>\n",
              "      <td>0</td>\n",
              "      <td>0</td>\n",
              "      <td>0</td>\n",
              "      <td>0</td>\n",
              "      <td>15.644151</td>\n",
              "      <td>65.490566</td>\n",
              "      <td>3.826415</td>\n",
              "      <td>20.000000</td>\n",
              "    </tr>\n",
              "  </tbody>\n",
              "</table>\n",
              "</div>"
            ],
            "text/plain": [
              "      available        date  hour  ...   humidity      wind      cloud\n",
              "1472          7  2020-02-08     6  ...  95.566667  1.293333   0.000000\n",
              "1473          7  2020-02-08     7  ...  93.000000  1.871667  10.666667\n",
              "1474          6  2020-02-08     8  ...  93.000000  1.560000   0.000000\n",
              "1475          4  2020-02-08     9  ...  87.400000  0.675333   0.000000\n",
              "1476          3  2020-02-08    10  ...  76.616667  1.265833   0.000000\n",
              "1477          7  2020-02-08    11  ...  61.266667  1.724000   2.000000\n",
              "1478         14  2020-02-08    12  ...  60.066667  0.600000  20.000000\n",
              "1479         10  2020-02-08    13  ...  56.333333  1.733333  20.000000\n",
              "1480          8  2020-02-08    14  ...  58.733333  2.933333  20.000000\n",
              "1481         10  2020-02-08    15  ...  65.490566  3.826415  20.000000\n",
              "\n",
              "[10 rows x 15 columns]"
            ]
          },
          "metadata": {
            "tags": []
          },
          "execution_count": 197
        }
      ]
    },
    {
      "cell_type": "markdown",
      "metadata": {
        "id": "k61qmvEE1otO",
        "colab_type": "text"
      },
      "source": [
        "# Visualize the data"
      ]
    },
    {
      "cell_type": "code",
      "metadata": {
        "id": "Ky1G1kU13SoB",
        "colab_type": "code",
        "colab": {}
      },
      "source": [
        "# Load libraries\n",
        "import matplotlib as mpl\n",
        "import matplotlib.pyplot as plt\n",
        "from matplotlib.legend_handler import HandlerLine2D\n",
        "import seaborn as sns;"
      ],
      "execution_count": 0,
      "outputs": []
    },
    {
      "cell_type": "code",
      "metadata": {
        "id": "oy7MgZsVx3r1",
        "colab_type": "code",
        "outputId": "4b40ac41-9afc-4373-c623-b616dff4f0fc",
        "colab": {
          "base_uri": "https://localhost:8080/",
          "height": 403
        }
      },
      "source": [
        "# HEATMAP CHART PER MIN (10)\n",
        "\n",
        "heatmap_data = pd.pivot_table(df[df['id']==31], values='available', index='hour', columns='date')\n",
        "fig, ax = plt.subplots(figsize=(20,5)) \n",
        "sns.heatmap(heatmap_data, cmap='RdBu', ax=ax)"
      ],
      "execution_count": 0,
      "outputs": [
        {
          "output_type": "execute_result",
          "data": {
            "text/plain": [
              "<matplotlib.axes._subplots.AxesSubplot at 0x7fb9bf41bc88>"
            ]
          },
          "metadata": {
            "tags": []
          },
          "execution_count": 199
        },
        {
          "output_type": "display_data",
          "data": {
            "image/png": "[encoded data removed]",
            "text/plain": [
              "<Figure size 1440x360 with 2 Axes>"
            ]
          },
          "metadata": {
            "tags": []
          }
        }
      ]
    },
    {
      "cell_type": "code",
      "metadata": {
        "id": "EptDXzkMpr8H",
        "colab_type": "code",
        "outputId": "0111ea22-a5c6-44f5-ea79-6702d683914e",
        "colab": {
          "base_uri": "https://localhost:8080/",
          "height": 353
        }
      },
      "source": [
        "# HEATMAP CHART PER WEEK DAY\n",
        "\n",
        "heatmap_data_week_day = pd.pivot_table(df[df['id']==31], values='available', index='hour', columns='dayofweek')\n",
        "fig, ax = plt.subplots(figsize=(20,5)) \n",
        "sns.heatmap(heatmap_data_week_day, cmap='RdBu', ax=ax)"
      ],
      "execution_count": 0,
      "outputs": [
        {
          "output_type": "execute_result",
          "data": {
            "text/plain": [
              "<matplotlib.axes._subplots.AxesSubplot at 0x7fb9bf41b588>"
            ]
          },
          "metadata": {
            "tags": []
          },
          "execution_count": 200
        },
        {
          "output_type": "display_data",
          "data": {
            "image/png": "[encoded data removed]",
            "text/plain": [
              "<Figure size 1440x360 with 2 Axes>"
            ]
          },
          "metadata": {
            "tags": []
          }
        }
      ]
    },
    {
      "cell_type": "markdown",
      "metadata": {
        "id": "9y5eb68F1LmQ",
        "colab_type": "text"
      },
      "source": [
        "# Start prediction"
      ]
    },
    {
      "cell_type": "code",
      "metadata": {
        "id": "5p7MDj5dejra",
        "colab_type": "code",
        "colab": {}
      },
      "source": [
        "# Load libraries\n",
        "import math\n",
        "from sklearn.ensemble import RandomForestRegressor, AdaBoostRegressor, GradientBoostingRegressor\n",
        "from sklearn.linear_model import LinearRegression, Lasso, LassoLars, Ridge\n",
        "from sklearn.tree import DecisionTreeRegressor\n",
        "from scipy.stats import randint as sp_randint\n",
        "from sklearn.model_selection import train_test_split, GridSearchCV\n",
        "from sklearn import metrics\n",
        "from sklearn.metrics import explained_variance_score\n",
        "from sklearn.feature_selection import SelectKBest, chi2\n",
        "from sklearn.pipeline import Pipeline\n",
        "\n",
        "from sklearn.impute import SimpleImputer"
      ],
      "execution_count": 0,
      "outputs": []
    },
    {
      "cell_type": "code",
      "metadata": {
        "id": "ILgEoFMNtdeU",
        "colab_type": "code",
        "colab": {}
      },
      "source": [
        "# Evaluate model\n",
        "def evaluate(model, train_features, train_labels, test_features, test_labels):\n",
        "    print('MODEL PERFORMANCE')\n",
        "    train_pred = model.predict(train_features)\n",
        "    print('Train set')\n",
        "    print('| Mean Absolute Error:', metrics.mean_absolute_error(train_labels, train_pred))\n",
        "    print('| Mean Square Error:', metrics.mean_squared_error(train_labels, train_pred))\n",
        "    print('| Root Mean Square Error:', np.sqrt(metrics.mean_squared_error(train_labels, train_pred)))\n",
        "    print('| Train Score:', model.score(train_features, train_labels))\n",
        "    y_pred = model.predict(test_features)\n",
        "    print('Test set')\n",
        "    print('| Mean Absolute Error:', metrics.mean_absolute_error(test_labels, y_pred))\n",
        "    print('| Mean Square Error:', metrics.mean_squared_error(test_labels, y_pred))\n",
        "    print('| Root Mean Square Error:', np.sqrt(metrics.mean_squared_error(test_labels, y_pred)))\n",
        "    print('| Test Score:', model.score(test_features, test_labels))\n",
        "    print('| Explained Variance:', explained_variance_score(test_labels, y_pred))\n",
        "\n",
        "    if hasattr(model, 'oob_score_'): print('OOB Score:', model.oob_score_)"
      ],
      "execution_count": 0,
      "outputs": []
    },
    {
      "cell_type": "markdown",
      "metadata": {
        "id": "dsbmKPesUHtq",
        "colab_type": "text"
      },
      "source": [
        "## Find best algoritm for our data"
      ]
    },
    {
      "cell_type": "code",
      "metadata": {
        "id": "wMeeU3IrUXE2",
        "colab_type": "code",
        "colab": {}
      },
      "source": [
        "def quick_eval(pipeline, X_train, y_train, X_test, y_test, verbose=True):\n",
        "    \"\"\"\n",
        "    Quickly trains modeling pipeline and evaluates on test data.      Returns original model, training RMSE, and testing\n",
        "    RMSE as a tuple.\n",
        "    \"\"\"\n",
        "    \n",
        "    pipeline.fit(X_train, y_train)\n",
        "    y_train_pred = pipeline.predict(X_train)\n",
        "    y_test_pred = pipeline.predict(X_test)\n",
        "    \n",
        "    train_score = np.sqrt(metrics.mean_squared_error(y_train, y_train_pred))\n",
        "    test_score = np.sqrt(metrics.mean_squared_error(y_test, y_test_pred))\n",
        "    \n",
        "    if verbose:\n",
        "        print(f\"Regression algorithm: {pipeline.named_steps['regressor'].__class__.__name__}\")\n",
        "        print(f\"Train RMSE: {train_score}\")\n",
        "        print(f\"Test RMSE: {test_score}\")\n",
        "        print(f\"----------------------------\")\n",
        "    \n",
        "    return pipeline.named_steps['regressor'], train_score, test_score"
      ],
      "execution_count": 0,
      "outputs": []
    },
    {
      "cell_type": "markdown",
      "metadata": {
        "id": "boPK51oIXzv6",
        "colab_type": "text"
      },
      "source": [
        "After review the result we see that **RandomForestRegressor** is the best option to predict our data"
      ]
    },
    {
      "cell_type": "markdown",
      "metadata": {
        "id": "n9aT5GkPwbX9",
        "colab_type": "text"
      },
      "source": [
        "## Random Forest"
      ]
    },
    {
      "cell_type": "code",
      "metadata": {
        "id": "Xvxz9s0psYNz",
        "colab_type": "code",
        "colab": {}
      },
      "source": [
        "# Create a new dataframe for random forest\n",
        "df_rf = df[['id', 'year', 'month', 'dayofweek', 'hour', 'holiday', 'football', 'basketball', 'temperature', 'humidity', 'wind', 'cloud', 'available_prev', 'available', 'available_next']]\n",
        "\n",
        "# Prepare data for train and test\n",
        "# We want to predict (\"available_next\")\n",
        "X = df_rf.drop('available_next', axis=1)\n",
        "y = df_rf['available_next']"
      ],
      "execution_count": 0,
      "outputs": []
    },
    {
      "cell_type": "code",
      "metadata": {
        "id": "P9zaF3uxryI-",
        "colab_type": "code",
        "outputId": "150ee112-3d28-4b72-b7d3-a47e31ab5d6f",
        "colab": {
          "base_uri": "https://localhost:8080/",
          "height": 34
        }
      },
      "source": [
        "# Split data in train and test\n",
        "X_train, X_test, y_train, y_test = train_test_split(X, y, test_size=0.25)\n",
        "\n",
        "X_train.shape, y_train.shape, X_test.shape, y_test.shape"
      ],
      "execution_count": 0,
      "outputs": [
        {
          "output_type": "execute_result",
          "data": {
            "text/plain": [
              "((1111, 13), (1111,), (371, 13), (371,))"
            ]
          },
          "metadata": {
            "tags": []
          },
          "execution_count": 205
        }
      ]
    },
    {
      "cell_type": "code",
      "metadata": {
        "id": "B0_u3Der-TxN",
        "colab_type": "code",
        "colab": {}
      },
      "source": [
        "# Create our imputer to replace missing values with the mean e.g.\n",
        "imp = SimpleImputer(missing_values=np.nan, strategy='mean')\n",
        "imp = imp.fit(X_train)\n",
        "\n",
        "# Impute our data, then train\n",
        "X_train = imp.transform(X_train)"
      ],
      "execution_count": 0,
      "outputs": []
    },
    {
      "cell_type": "code",
      "metadata": {
        "id": "UdbUrUv_UHMP",
        "colab_type": "code",
        "outputId": "00f02ceb-8586-4d89-bf3f-3b98622edb16",
        "colab": {
          "base_uri": "https://localhost:8080/",
          "height": 561
        }
      },
      "source": [
        "regressors = [\n",
        "    LinearRegression(),\n",
        "    Lasso(alpha=.5),\n",
        "    Ridge(alpha=.1),\n",
        "    LassoLars(alpha=.1),\n",
        "    DecisionTreeRegressor(),\n",
        "    RandomForestRegressor(),\n",
        "    AdaBoostRegressor(),\n",
        "    GradientBoostingRegressor()\n",
        "]\n",
        "\n",
        "for r in regressors:\n",
        "    pipe = Pipeline(steps = [\n",
        "        ('regressor', r)\n",
        "    ])\n",
        "\n",
        "    quick_eval(pipe, X_train, y_train, X_test, y_test)"
      ],
      "execution_count": 0,
      "outputs": [
        {
          "output_type": "stream",
          "text": [
            "Regression algorithm: LinearRegression\n",
            "Train RMSE: 2.121484327745336\n",
            "Test RMSE: 2.065697137562799\n",
            "----------------------------\n",
            "Regression algorithm: Lasso\n",
            "Train RMSE: 2.179074981399763\n",
            "Test RMSE: 2.106610689982148\n",
            "----------------------------\n",
            "Regression algorithm: Ridge\n",
            "Train RMSE: 2.1215248913825184\n",
            "Test RMSE: 2.0663307505301884\n",
            "----------------------------\n",
            "Regression algorithm: LassoLars\n",
            "Train RMSE: 4.050793742718888\n",
            "Test RMSE: 4.128790234244102\n",
            "----------------------------\n",
            "Regression algorithm: DecisionTreeRegressor\n",
            "Train RMSE: 0.0\n",
            "Test RMSE: 2.7594483608258895\n",
            "----------------------------\n",
            "Regression algorithm: RandomForestRegressor\n",
            "Train RMSE: 0.7917822755765574\n",
            "Test RMSE: 2.1275180102873477\n",
            "----------------------------\n",
            "Regression algorithm: AdaBoostRegressor\n",
            "Train RMSE: 2.2039223581670533\n",
            "Test RMSE: 2.3418349911346517\n",
            "----------------------------\n",
            "Regression algorithm: GradientBoostingRegressor\n",
            "Train RMSE: 1.6317788438198744\n",
            "Test RMSE: 2.026063179178271\n",
            "----------------------------\n"
          ],
          "name": "stdout"
        }
      ]
    },
    {
      "cell_type": "markdown",
      "metadata": {
        "id": "pidOp9iAY4WR",
        "colab_type": "text"
      },
      "source": [
        "### Find best params for Random Forest"
      ]
    },
    {
      "cell_type": "markdown",
      "metadata": {
        "id": "jY1KVsPBZCch",
        "colab_type": "text"
      },
      "source": [
        "#### Check each property "
      ]
    },
    {
      "cell_type": "code",
      "metadata": {
        "id": "izgkhyLxI2Mb",
        "colab_type": "code",
        "outputId": "45a2c6fe-08ed-4b0e-f408-9d8bb3789fca",
        "colab": {
          "base_uri": "https://localhost:8080/",
          "height": 280
        }
      },
      "source": [
        "# Find N_ESTIMATORS\n",
        "n_estimators = [int(x) for x in np.linspace(start = 1, stop = 200, num=50)]\n",
        "train_results = []\n",
        "test_results = []\n",
        "for estimator in n_estimators:\n",
        "  rf = RandomForestRegressor(n_estimators=estimator, n_jobs=-1)\n",
        "  rf.fit(X_train, y_train)\n",
        "  train_pred = rf.predict(X_train)\n",
        "  train_results.append(np.sqrt(metrics.mean_squared_error(y_train, train_pred)))\n",
        "  #train_results.append(rf.score(X_train, y_train))\n",
        "  y_pred = rf.predict(X_test)\n",
        "  test_results.append(np.sqrt(metrics.mean_squared_error(y_test, y_pred)))\n",
        "  #test_results.append(rf.score(X_test, y_test))\n",
        "\n",
        "line1, = plt.plot(n_estimators, train_results, 'b', label='Train RSME')\n",
        "line2, = plt.plot(n_estimators, test_results, 'r', label='Test RSME')\n",
        "plt.legend(handler_map={line1: HandlerLine2D(numpoints=2)})\n",
        "plt.ylabel('RSME')\n",
        "plt.xlabel('n_estimators')\n",
        "plt.show()"
      ],
      "execution_count": 0,
      "outputs": [
        {
          "output_type": "display_data",
          "data": {
            "image/png": "[encoded data removed]",
            "text/plain": [
              "<Figure size 432x288 with 1 Axes>"
            ]
          },
          "metadata": {
            "tags": []
          }
        }
      ]
    },
    {
      "cell_type": "code",
      "metadata": {
        "id": "vtdNSYLObSxI",
        "colab_type": "code",
        "outputId": "2ca25e7f-ae6c-4cde-82fd-9023d3d9aa90",
        "colab": {
          "base_uri": "https://localhost:8080/",
          "height": 279
        }
      },
      "source": [
        "# Find MAX_DEPTH\n",
        "max_depths = np.linspace(start = 1, stop = 100, num=50, endpoint=True)\n",
        "train_results = []\n",
        "test_results = []\n",
        "for max_depth in max_depths:\n",
        "  rf = RandomForestRegressor(max_depth=max_depth, n_jobs=-1)\n",
        "  rf.fit(X_train, y_train)\n",
        "  train_pred = rf.predict(X_train)\n",
        "  train_results.append(np.sqrt(metrics.mean_squared_error(y_train, train_pred)))\n",
        "  #train_results.append(rf.score(X_train, y_train))\n",
        "  y_pred = rf.predict(X_test)\n",
        "  test_results.append(np.sqrt(metrics.mean_squared_error(y_test, y_pred)))\n",
        "  #test_results.append(rf.score(X_test, y_test))\n",
        "\n",
        "line1, = plt.plot(max_depths, train_results, 'b', label='Train RSME')\n",
        "line2, = plt.plot(max_depths, test_results, 'r', label='Test RSME')\n",
        "plt.legend(handler_map={line1: HandlerLine2D(numpoints=2)})\n",
        "plt.ylabel('RSME')\n",
        "plt.xlabel('Tree depth')\n",
        "plt.show()"
      ],
      "execution_count": 0,
      "outputs": [
        {
          "output_type": "display_data",
          "data": {
            "image/png": "[encoded data removed]",
            "text/plain": [
              "<Figure size 432x288 with 1 Axes>"
            ]
          },
          "metadata": {
            "tags": []
          }
        }
      ]
    },
    {
      "cell_type": "code",
      "metadata": {
        "id": "IRHYW2v0cOG-",
        "colab_type": "code",
        "outputId": "2a5bf0f4-2ac8-47e1-d1e3-883f181cd2b8",
        "colab": {
          "base_uri": "https://localhost:8080/",
          "height": 279
        }
      },
      "source": [
        "# Find MIN_SAMPLES_SPLIT\n",
        "min_samples_splits = np.linspace(start = 0.01, stop = 1.0, num=10, endpoint=True)\n",
        "train_results = []\n",
        "test_results = []\n",
        "for min_samples_split in min_samples_splits:\n",
        "  rf = RandomForestRegressor(min_samples_split=min_samples_split)\n",
        "  rf.fit(X_train, y_train)\n",
        "  train_pred = rf.predict(X_train)\n",
        "  train_results.append(np.sqrt(metrics.mean_squared_error(y_train, train_pred)))\n",
        "  #train_results.append(rf.score(X_train, y_train))\n",
        "  y_pred = rf.predict(X_test)\n",
        "  test_results.append(np.sqrt(metrics.mean_squared_error(y_test, y_pred)))\n",
        "  #test_results.append(rf.score(X_test, y_test))\n",
        "\n",
        "line1, = plt.plot(min_samples_splits, train_results, 'b', label='Train RSME')\n",
        "line2, = plt.plot(min_samples_splits, test_results, 'r', label='Test RSME')\n",
        "plt.legend(handler_map={line1: HandlerLine2D(numpoints=2)})\n",
        "plt.ylabel('RSME')\n",
        "plt.xlabel('min samples split')\n",
        "plt.show()"
      ],
      "execution_count": 0,
      "outputs": [
        {
          "output_type": "display_data",
          "data": {
            "image/png": "[encoded data removed]",
            "text/plain": [
              "<Figure size 432x288 with 1 Axes>"
            ]
          },
          "metadata": {
            "tags": []
          }
        }
      ]
    },
    {
      "cell_type": "code",
      "metadata": {
        "id": "if081AsKeFIR",
        "colab_type": "code",
        "outputId": "121c3605-7095-4b9d-d711-b59fdb4fbd12",
        "colab": {
          "base_uri": "https://localhost:8080/",
          "height": 280
        }
      },
      "source": [
        "# Find MIN_SAMPLES_LEAF\n",
        "min_samples_leafs = np.linspace(start = 0.01, stop = 0.5, num=5, endpoint=True)\n",
        "train_results = []\n",
        "test_results = []\n",
        "for min_samples_leaf in min_samples_leafs:\n",
        "  rf = RandomForestRegressor(min_samples_leaf=min_samples_leaf)\n",
        "  rf.fit(X_train, y_train)\n",
        "  train_pred = rf.predict(X_train)\n",
        "  train_results.append(np.sqrt(metrics.mean_squared_error(y_train, train_pred)))\n",
        "  #train_results.append(rf.score(X_train, y_train))\n",
        "  y_pred = rf.predict(X_test)\n",
        "  test_results.append(np.sqrt(metrics.mean_squared_error(y_test, y_pred)))\n",
        "  #test_results.append(rf.score(X_test, y_test))\n",
        "\n",
        "line1, = plt.plot(min_samples_leafs, train_results, 'b', label='Train RSME')\n",
        "line2, = plt.plot(min_samples_leafs, test_results, 'r', label='Test RSME')\n",
        "plt.legend(handler_map={line1: HandlerLine2D(numpoints=2)})\n",
        "plt.ylabel('RSME')\n",
        "plt.xlabel('min samples leaf')\n",
        "plt.show()"
      ],
      "execution_count": 0,
      "outputs": [
        {
          "output_type": "display_data",
          "data": {
            "image/png": "[encoded data removed]",
            "text/plain": [
              "<Figure size 432x288 with 1 Axes>"
            ]
          },
          "metadata": {
            "tags": []
          }
        }
      ]
    },
    {
      "cell_type": "code",
      "metadata": {
        "id": "1aYmbNB7ehCO",
        "colab_type": "code",
        "outputId": "ca1d3614-a081-421c-cf97-510b9e0c4f09",
        "colab": {
          "base_uri": "https://localhost:8080/",
          "height": 279
        }
      },
      "source": [
        "# Find MAX_FEATURES\n",
        "max_features = list(range(1,X.shape[1]))\n",
        "train_results = []\n",
        "test_results = []\n",
        "for max_feature in max_features:\n",
        "  rf = RandomForestRegressor(max_features=max_feature)\n",
        "  rf.fit(X_train, y_train)\n",
        "  train_pred = rf.predict(X_train)\n",
        "  train_results.append(np.sqrt(metrics.mean_squared_error(y_train, train_pred)))\n",
        "  #train_results.append(rf.score(X_train, y_train))\n",
        "  y_pred = rf.predict(X_test)\n",
        "  test_results.append(np.sqrt(metrics.mean_squared_error(y_test, y_pred)))\n",
        "  #test_results.append(rf.score(X_test, y_test))\n",
        "\n",
        "line1, = plt.plot(max_features, train_results, 'b', label='Train RSME')\n",
        "line2, = plt.plot(max_features, test_results, 'r', label='Test RSME')\n",
        "plt.legend(handler_map={line1: HandlerLine2D(numpoints=2)})\n",
        "plt.ylabel('RSME')\n",
        "plt.xlabel('max features')\n",
        "plt.show()"
      ],
      "execution_count": 0,
      "outputs": [
        {
          "output_type": "display_data",
          "data": {
            "image/png": "[encoded data removed]",
            "text/plain": [
              "<Figure size 432x288 with 1 Axes>"
            ]
          },
          "metadata": {
            "tags": []
          }
        }
      ]
    },
    {
      "cell_type": "markdown",
      "metadata": {
        "id": "fBe5jr0KgalT",
        "colab_type": "text"
      },
      "source": [
        "#### Find the best combination of params\n",
        "\n",
        "**TRY ALL PARAMS TO FIND THE BEST PARAMS FOR OUR DATA**\n",
        "\n",
        "Now that we know where to concentrate our search, we can explicitly specify every combination of settings to try."
      ]
    },
    {
      "cell_type": "code",
      "metadata": {
        "id": "MTHDpMF00JYS",
        "colab_type": "code",
        "cellView": "code",
        "outputId": "60b4f59b-2f4b-4f0f-eb40-df96dda51e35",
        "colab": {
          "base_uri": "https://localhost:8080/",
          "height": 153
        }
      },
      "source": [
        "#@title Default title text\n",
        "def searchBestParamsForRF(params, train_features, train_labels):\n",
        "  # First create the base model to tune\n",
        "  rf = RandomForestRegressor()\n",
        "  # Instantiate the grid search model\n",
        "  grid_search = GridSearchCV(estimator = rf, param_grid = param_grid, scoring = 'neg_mean_squared_error', cv = 5, n_jobs = -1, verbose = 2)\n",
        "  # Fit the grid search to the data\n",
        "  grid_search.fit(train_features, train_labels)\n",
        "  print(f\"The best estimator had RMSE {np.sqrt(-grid_search.best_score_)} and the following parameters:\")\n",
        "  print(grid_search.best_params_)\n",
        "\n",
        "# Create the parameter grid\n",
        "max_depth = [int(x) for x in np.linspace(10, 20, num = 3)]\n",
        "max_depth.append(None)\n",
        "param_grid = {\n",
        "    'bootstrap': [False, True],\n",
        "    'n_estimators': [int(x) for x in np.linspace(start = 40, stop = 60, num = 4)],\n",
        "    'max_depth': max_depth,\n",
        "    'min_samples_split': [float(x) for x in np.linspace(0.1, 0.2, num = 2)],\n",
        "    'min_samples_leaf': [float(x) for x in np.linspace(0.1, 0.2, num = 2)],\n",
        "    'max_features': [X.shape[1]]\n",
        "}\n",
        "\n",
        "# Comment or Uncomment this line to seach for the best params\n",
        "searchBestParamsForRF(param_grid, X_train, y_train)"
      ],
      "execution_count": 0,
      "outputs": [
        {
          "output_type": "stream",
          "text": [
            "Fitting 5 folds for each of 128 candidates, totalling 640 fits\n"
          ],
          "name": "stdout"
        },
        {
          "output_type": "stream",
          "text": [
            "[Parallel(n_jobs=-1)]: Using backend LokyBackend with 4 concurrent workers.\n",
            "[Parallel(n_jobs=-1)]: Done  33 tasks      | elapsed:    3.1s\n",
            "[Parallel(n_jobs=-1)]: Done 154 tasks      | elapsed:    7.8s\n",
            "[Parallel(n_jobs=-1)]: Done 357 tasks      | elapsed:   16.1s\n"
          ],
          "name": "stderr"
        },
        {
          "output_type": "stream",
          "text": [
            "The best estimator had RMSE 2.4193712927593256 and the following parameters:\n",
            "{'bootstrap': True, 'max_depth': 10, 'max_features': 13, 'min_samples_leaf': 0.1, 'min_samples_split': 0.1, 'n_estimators': 46}\n"
          ],
          "name": "stdout"
        },
        {
          "output_type": "stream",
          "text": [
            "[Parallel(n_jobs=-1)]: Done 640 out of 640 | elapsed:   27.0s finished\n"
          ],
          "name": "stderr"
        }
      ]
    },
    {
      "cell_type": "markdown",
      "metadata": {
        "id": "LDvB35LO2rU-",
        "colab_type": "text"
      },
      "source": [
        "### Train and evaluate model"
      ]
    },
    {
      "cell_type": "code",
      "metadata": {
        "id": "1NPsVRQMvbPb",
        "colab_type": "code",
        "outputId": "0de76053-78a3-4dbb-b5a4-d2b6d1488393",
        "colab": {
          "base_uri": "https://localhost:8080/",
          "height": 221
        }
      },
      "source": [
        "m = RandomForestRegressor(n_estimators=60, max_features=X.shape[1])\n",
        "m.fit(X_train, y_train)\n",
        "\n",
        "evaluate(m, X_train, y_train, X_test, y_test)\n",
        "\n",
        "\n",
        "\n",
        "# MODEL PERFORMANCE\n",
        "# Train set\n",
        "# | Mean Absolute Error: 0.5758625862586259\n",
        "# | Mean Square Error: 0.6365449044904491\n",
        "# | Root Mean Square Error: 0.7978376429389936\n",
        "# | Train Score: 0.9807615052050999\n",
        "# Test set\n",
        "# | Mean Absolute Error: 1.5209793351302785\n",
        "# | Mean Square Error: 4.284529050613956\n",
        "# | Root Mean Square Error: 2.0699103967597137\n",
        "# | Test Score: 0.8757254225805797\n",
        "# | Explained Variance: 0.8758109846903823"
      ],
      "execution_count": 0,
      "outputs": [
        {
          "output_type": "stream",
          "text": [
            "MODEL PERFORMANCE\n",
            "Train set\n",
            "| Mean Absolute Error: 0.5777677767776779\n",
            "| Mean Square Error: 0.6461221122112212\n",
            "| Root Mean Square Error: 0.8038172131842047\n",
            "| Train Score: 0.9804720502749198\n",
            "Test set\n",
            "| Mean Absolute Error: 1.5185534591194971\n",
            "| Mean Square Error: 4.309985774183887\n",
            "| Root Mean Square Error: 2.076050523032589\n",
            "| Test Score: 0.8749870395455335\n",
            "| Explained Variance: 0.8750061249382027\n"
          ],
          "name": "stdout"
        }
      ]
    },
    {
      "cell_type": "code",
      "metadata": {
        "id": "MbqYmjjOSGHO",
        "colab_type": "code",
        "outputId": "e0b8c19a-2204-48b0-8e5d-8e2db6ae84be",
        "colab": {
          "base_uri": "https://localhost:8080/",
          "height": 204
        }
      },
      "source": [
        "X_test.tail()"
      ],
      "execution_count": 0,
      "outputs": [
        {
          "output_type": "execute_result",
          "data": {
            "text/html": [
              "<div>\n",
              "<style scoped>\n",
              "    .dataframe tbody tr th:only-of-type {\n",
              "        vertical-align: middle;\n",
              "    }\n",
              "\n",
              "    .dataframe tbody tr th {\n",
              "        vertical-align: top;\n",
              "    }\n",
              "\n",
              "    .dataframe thead th {\n",
              "        text-align: right;\n",
              "    }\n",
              "</style>\n",
              "<table border=\"1\" class=\"dataframe\">\n",
              "  <thead>\n",
              "    <tr style=\"text-align: right;\">\n",
              "      <th></th>\n",
              "      <th>year</th>\n",
              "      <th>month</th>\n",
              "      <th>dayofweek</th>\n",
              "      <th>hour</th>\n",
              "      <th>holiday</th>\n",
              "      <th>football</th>\n",
              "      <th>basketball</th>\n",
              "      <th>temperature</th>\n",
              "      <th>humidity</th>\n",
              "      <th>wind</th>\n",
              "      <th>cloud</th>\n",
              "      <th>available_prev</th>\n",
              "      <th>available</th>\n",
              "    </tr>\n",
              "  </thead>\n",
              "  <tbody>\n",
              "    <tr>\n",
              "      <th>660</th>\n",
              "      <td>2020</td>\n",
              "      <td>1</td>\n",
              "      <td>6</td>\n",
              "      <td>10</td>\n",
              "      <td>0</td>\n",
              "      <td>0</td>\n",
              "      <td>0</td>\n",
              "      <td>11.571833</td>\n",
              "      <td>70.500000</td>\n",
              "      <td>0.933333</td>\n",
              "      <td>0.000000</td>\n",
              "      <td>0</td>\n",
              "      <td>1</td>\n",
              "    </tr>\n",
              "    <tr>\n",
              "      <th>1111</th>\n",
              "      <td>2020</td>\n",
              "      <td>1</td>\n",
              "      <td>4</td>\n",
              "      <td>5</td>\n",
              "      <td>0</td>\n",
              "      <td>0</td>\n",
              "      <td>0</td>\n",
              "      <td>8.962167</td>\n",
              "      <td>93.816667</td>\n",
              "      <td>1.828333</td>\n",
              "      <td>63.333333</td>\n",
              "      <td>1</td>\n",
              "      <td>1</td>\n",
              "    </tr>\n",
              "    <tr>\n",
              "      <th>590</th>\n",
              "      <td>2020</td>\n",
              "      <td>1</td>\n",
              "      <td>3</td>\n",
              "      <td>12</td>\n",
              "      <td>0</td>\n",
              "      <td>0</td>\n",
              "      <td>0</td>\n",
              "      <td>12.725667</td>\n",
              "      <td>64.000000</td>\n",
              "      <td>0.500000</td>\n",
              "      <td>20.000000</td>\n",
              "      <td>14</td>\n",
              "      <td>16</td>\n",
              "    </tr>\n",
              "    <tr>\n",
              "      <th>629</th>\n",
              "      <td>2020</td>\n",
              "      <td>1</td>\n",
              "      <td>5</td>\n",
              "      <td>3</td>\n",
              "      <td>0</td>\n",
              "      <td>1</td>\n",
              "      <td>0</td>\n",
              "      <td>6.119667</td>\n",
              "      <td>93.000000</td>\n",
              "      <td>2.583333</td>\n",
              "      <td>20.000000</td>\n",
              "      <td>14</td>\n",
              "      <td>14</td>\n",
              "    </tr>\n",
              "    <tr>\n",
              "      <th>1270</th>\n",
              "      <td>2020</td>\n",
              "      <td>1</td>\n",
              "      <td>3</td>\n",
              "      <td>20</td>\n",
              "      <td>0</td>\n",
              "      <td>0</td>\n",
              "      <td>0</td>\n",
              "      <td>15.654833</td>\n",
              "      <td>51.866667</td>\n",
              "      <td>6.245000</td>\n",
              "      <td>100.000000</td>\n",
              "      <td>19</td>\n",
              "      <td>19</td>\n",
              "    </tr>\n",
              "  </tbody>\n",
              "</table>\n",
              "</div>"
            ],
            "text/plain": [
              "      year  month  dayofweek  ...       cloud  available_prev  available\n",
              "660   2020      1          6  ...    0.000000               0          1\n",
              "1111  2020      1          4  ...   63.333333               1          1\n",
              "590   2020      1          3  ...   20.000000              14         16\n",
              "629   2020      1          5  ...   20.000000              14         14\n",
              "1270  2020      1          3  ...  100.000000              19         19\n",
              "\n",
              "[5 rows x 13 columns]"
            ]
          },
          "metadata": {
            "tags": []
          },
          "execution_count": 258
        }
      ]
    },
    {
      "cell_type": "code",
      "metadata": {
        "id": "z8lvzVxGSS4P",
        "colab_type": "code",
        "outputId": "ddb3fae6-17db-48a5-9996-34b45a1b6ba2",
        "colab": {
          "base_uri": "https://localhost:8080/",
          "height": 119
        }
      },
      "source": [
        "y_test.tail()"
      ],
      "execution_count": 0,
      "outputs": [
        {
          "output_type": "execute_result",
          "data": {
            "text/plain": [
              "660      5\n",
              "1111     0\n",
              "590     17\n",
              "629     14\n",
              "1270    18\n",
              "Name: available_next, dtype: int64"
            ]
          },
          "metadata": {
            "tags": []
          },
          "execution_count": 259
        }
      ]
    },
    {
      "cell_type": "code",
      "metadata": {
        "id": "MxW3Ex8xSMZO",
        "colab_type": "code",
        "outputId": "8b04967e-46f0-48f0-901a-7ff0c707d02b",
        "colab": {
          "base_uri": "https://localhost:8080/",
          "height": 34
        }
      },
      "source": [
        "m.predict([[2020, 1, 6, 10, 0, 0, 0, 11.57, 70.50, 0.93, 0, 0, 1]])"
      ],
      "execution_count": 0,
      "outputs": [
        {
          "output_type": "execute_result",
          "data": {
            "text/plain": [
              "array([2.6])"
            ]
          },
          "metadata": {
            "tags": []
          },
          "execution_count": 265
        }
      ]
    },
    {
      "cell_type": "code",
      "metadata": {
        "id": "jI8MWznA33Ko",
        "colab_type": "code",
        "outputId": "b63559ef-7c6b-4390-e121-a401291f703f",
        "colab": {
          "base_uri": "https://localhost:8080/",
          "height": 445
        }
      },
      "source": [
        "# Show the importance of each variable in prediction\n",
        "def rf_feat_importance(m, df):\n",
        "  return pd.DataFrame({'cols':df.columns, 'imp':m.feature_importances_}).sort_values('imp', ascending=False)\n",
        "  \n",
        "fi = rf_feat_importance(m, X); \n",
        "fi[:].plot('cols', 'imp', 'barh', figsize=(12,7), legend=False)"
      ],
      "execution_count": 0,
      "outputs": [
        {
          "output_type": "execute_result",
          "data": {
            "text/plain": [
              "<matplotlib.axes._subplots.AxesSubplot at 0x7fb9c2033630>"
            ]
          },
          "metadata": {
            "tags": []
          },
          "execution_count": 266
        },
        {
          "output_type": "display_data",
          "data": {
            "image/png": "[encoded data removed]",
            "text/plain": [
              "<Figure size 864x504 with 1 Axes>"
            ]
          },
          "metadata": {
            "tags": []
          }
        }
      ]
    },
    {
      "cell_type": "markdown",
      "metadata": {
        "id": "sK4jAURmMpUe",
        "colab_type": "text"
      },
      "source": [
        "# Download model"
      ]
    },
    {
      "cell_type": "code",
      "metadata": {
        "id": "pmgwquchMmh7",
        "colab_type": "code",
        "colab": {}
      },
      "source": [
        "# Import package\n",
        "import pickle"
      ],
      "execution_count": 0,
      "outputs": []
    },
    {
      "cell_type": "code",
      "metadata": {
        "id": "fBApMmv-M4Qe",
        "colab_type": "code",
        "colab": {}
      },
      "source": [
        "# Generate file\n",
        "with open('model.pkl', 'wb') as model_file:\n",
        "  pickle.dump(m, model_file)"
      ],
      "execution_count": 0,
      "outputs": []
    }
  ]
}